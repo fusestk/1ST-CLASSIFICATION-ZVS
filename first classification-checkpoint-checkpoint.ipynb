{
 "cells": [
  {
   "cell_type": "code",
   "execution_count": 1,
   "id": "83affcf5",
   "metadata": {},
   "outputs": [],
   "source": [
    "import numpy as np\n",
    "import matplotlib.pyplot as plt\n",
    "import pandas as pd\n",
    "from sklearn.preprocessing import LabelEncoder\n",
    "from sklearn.preprocessing import StandardScaler\n",
    "from sklearn.model_selection import train_test_split, cross_val_score\n",
    "from xgboost.sklearn import XGBClassifier\n",
    "from sklearn.ensemble import RandomForestClassifier, GradientBoostingClassifier, AdaBoostClassifier, BaggingClassifier\n",
    "from sklearn.naive_bayes import GaussianNB\n",
    "from sklearn.tree import DecisionTreeClassifier\n",
    "from sklearn.metrics import confusion_matrix, accuracy_score, classification_report\n",
    "import seaborn as sn\n",
    "import warnings; warnings.simplefilter('ignore')\n",
    "%matplotlib inline"
   ]
  },
  {
   "cell_type": "code",
   "execution_count": 2,
   "id": "d4a941aa",
   "metadata": {},
   "outputs": [
    {
     "data": {
      "text/plain": [
       "'eegdata.csv'"
      ]
     },
     "execution_count": 2,
     "metadata": {},
     "output_type": "execute_result"
    }
   ],
   "source": [
    "\"eegdata.csv\""
   ]
  },
  {
   "cell_type": "code",
   "execution_count": 4,
   "id": "2a04a16b",
   "metadata": {},
   "outputs": [
    {
     "ename": "NameError",
     "evalue": "name 'eegdata' is not defined",
     "output_type": "error",
     "traceback": [
      "\u001b[1;31m---------------------------------------------------------------------------\u001b[0m",
      "\u001b[1;31mNameError\u001b[0m                                 Traceback (most recent call last)",
      "\u001b[1;32mC:\\Users\\OLUWAF~1\\AppData\\Local\\Temp/ipykernel_11084/3225308253.py\u001b[0m in \u001b[0;36m<module>\u001b[1;34m\u001b[0m\n\u001b[1;32m----> 1\u001b[1;33m \u001b[0meegdata\u001b[0m\u001b[1;33m.\u001b[0m\u001b[0mdescribe\u001b[0m\u001b[1;33m(\u001b[0m\u001b[1;33m)\u001b[0m\u001b[1;33m\u001b[0m\u001b[1;33m\u001b[0m\u001b[0m\n\u001b[0m",
      "\u001b[1;31mNameError\u001b[0m: name 'eegdata' is not defined"
     ]
    }
   ],
   "source": [
    "eegdata.describe()"
   ]
  },
  {
   "cell_type": "code",
   "execution_count": null,
   "id": "ca5c5748",
   "metadata": {},
   "outputs": [],
   "source": [
    "data.head()"
   ]
  },
  {
   "cell_type": "code",
   "execution_count": null,
   "id": "7eb90847",
   "metadata": {},
   "outputs": [],
   "source": [
    "path = (\"eegdata.csv\")\n",
    "sample_data = pd.read_csv(path)\n",
    "sample_data"
   ]
  },
  {
   "cell_type": "code",
   "execution_count": 7,
   "id": "d0ff9ef0",
   "metadata": {},
   "outputs": [],
   "source": [
    "#remove bad column\n",
    "sample_data.drop([\"Unnamed: 0\"], inplace = True, axis = 1)\n",
    "assert(sample_data.columns[0] != \"Unnamed: 0\")"
   ]
  },
  {
   "cell_type": "code",
   "execution_count": 8,
   "id": "2a9a0fbc",
   "metadata": {},
   "outputs": [
    {
     "data": {
      "text/plain": [
       "(11500, 179)"
      ]
     },
     "execution_count": 8,
     "metadata": {},
     "output_type": "execute_result"
    }
   ],
   "source": [
    "sample_data.shape"
   ]
  },
  {
   "cell_type": "code",
   "execution_count": 9,
   "id": "1412d5e7",
   "metadata": {},
   "outputs": [
    {
     "data": {
      "text/html": [
       "<div>\n",
       "<style scoped>\n",
       "    .dataframe tbody tr th:only-of-type {\n",
       "        vertical-align: middle;\n",
       "    }\n",
       "\n",
       "    .dataframe tbody tr th {\n",
       "        vertical-align: top;\n",
       "    }\n",
       "\n",
       "    .dataframe thead th {\n",
       "        text-align: right;\n",
       "    }\n",
       "</style>\n",
       "<table border=\"1\" class=\"dataframe\">\n",
       "  <thead>\n",
       "    <tr style=\"text-align: right;\">\n",
       "      <th></th>\n",
       "      <th>X1</th>\n",
       "      <th>X2</th>\n",
       "      <th>X3</th>\n",
       "      <th>X4</th>\n",
       "      <th>X5</th>\n",
       "      <th>X6</th>\n",
       "      <th>X7</th>\n",
       "      <th>X8</th>\n",
       "      <th>X9</th>\n",
       "      <th>X10</th>\n",
       "      <th>...</th>\n",
       "      <th>X170</th>\n",
       "      <th>X171</th>\n",
       "      <th>X172</th>\n",
       "      <th>X173</th>\n",
       "      <th>X174</th>\n",
       "      <th>X175</th>\n",
       "      <th>X176</th>\n",
       "      <th>X177</th>\n",
       "      <th>X178</th>\n",
       "      <th>y</th>\n",
       "    </tr>\n",
       "  </thead>\n",
       "  <tbody>\n",
       "    <tr>\n",
       "      <th>count</th>\n",
       "      <td>11500.000000</td>\n",
       "      <td>11500.000000</td>\n",
       "      <td>11500.000000</td>\n",
       "      <td>11500.000000</td>\n",
       "      <td>11500.000000</td>\n",
       "      <td>11500.000000</td>\n",
       "      <td>11500.000000</td>\n",
       "      <td>11500.00000</td>\n",
       "      <td>11500.00000</td>\n",
       "      <td>11500.000000</td>\n",
       "      <td>...</td>\n",
       "      <td>11500.000000</td>\n",
       "      <td>11500.000000</td>\n",
       "      <td>11500.000000</td>\n",
       "      <td>11500.000000</td>\n",
       "      <td>11500.000000</td>\n",
       "      <td>11500.000000</td>\n",
       "      <td>11500.000000</td>\n",
       "      <td>11500.000000</td>\n",
       "      <td>11500.000000</td>\n",
       "      <td>11500.000000</td>\n",
       "    </tr>\n",
       "    <tr>\n",
       "      <th>mean</th>\n",
       "      <td>-11.581391</td>\n",
       "      <td>-10.911565</td>\n",
       "      <td>-10.187130</td>\n",
       "      <td>-9.143043</td>\n",
       "      <td>-8.009739</td>\n",
       "      <td>-7.003478</td>\n",
       "      <td>-6.502087</td>\n",
       "      <td>-6.68713</td>\n",
       "      <td>-6.55800</td>\n",
       "      <td>-6.168435</td>\n",
       "      <td>...</td>\n",
       "      <td>-10.145739</td>\n",
       "      <td>-11.630348</td>\n",
       "      <td>-12.943478</td>\n",
       "      <td>-13.668870</td>\n",
       "      <td>-13.363304</td>\n",
       "      <td>-13.045043</td>\n",
       "      <td>-12.705130</td>\n",
       "      <td>-12.426000</td>\n",
       "      <td>-12.195652</td>\n",
       "      <td>3.000000</td>\n",
       "    </tr>\n",
       "    <tr>\n",
       "      <th>std</th>\n",
       "      <td>165.626284</td>\n",
       "      <td>166.059609</td>\n",
       "      <td>163.524317</td>\n",
       "      <td>161.269041</td>\n",
       "      <td>160.998007</td>\n",
       "      <td>161.328725</td>\n",
       "      <td>161.467837</td>\n",
       "      <td>162.11912</td>\n",
       "      <td>162.03336</td>\n",
       "      <td>160.436352</td>\n",
       "      <td>...</td>\n",
       "      <td>164.652883</td>\n",
       "      <td>166.149790</td>\n",
       "      <td>168.554058</td>\n",
       "      <td>168.556486</td>\n",
       "      <td>167.257290</td>\n",
       "      <td>164.241019</td>\n",
       "      <td>162.895832</td>\n",
       "      <td>162.886311</td>\n",
       "      <td>164.852015</td>\n",
       "      <td>1.414275</td>\n",
       "    </tr>\n",
       "    <tr>\n",
       "      <th>min</th>\n",
       "      <td>-1839.000000</td>\n",
       "      <td>-1838.000000</td>\n",
       "      <td>-1835.000000</td>\n",
       "      <td>-1845.000000</td>\n",
       "      <td>-1791.000000</td>\n",
       "      <td>-1757.000000</td>\n",
       "      <td>-1832.000000</td>\n",
       "      <td>-1778.00000</td>\n",
       "      <td>-1840.00000</td>\n",
       "      <td>-1867.000000</td>\n",
       "      <td>...</td>\n",
       "      <td>-1867.000000</td>\n",
       "      <td>-1865.000000</td>\n",
       "      <td>-1642.000000</td>\n",
       "      <td>-1723.000000</td>\n",
       "      <td>-1866.000000</td>\n",
       "      <td>-1863.000000</td>\n",
       "      <td>-1781.000000</td>\n",
       "      <td>-1727.000000</td>\n",
       "      <td>-1829.000000</td>\n",
       "      <td>1.000000</td>\n",
       "    </tr>\n",
       "    <tr>\n",
       "      <th>25%</th>\n",
       "      <td>-54.000000</td>\n",
       "      <td>-55.000000</td>\n",
       "      <td>-54.000000</td>\n",
       "      <td>-54.000000</td>\n",
       "      <td>-54.000000</td>\n",
       "      <td>-54.000000</td>\n",
       "      <td>-54.000000</td>\n",
       "      <td>-55.00000</td>\n",
       "      <td>-55.00000</td>\n",
       "      <td>-54.000000</td>\n",
       "      <td>...</td>\n",
       "      <td>-55.000000</td>\n",
       "      <td>-56.000000</td>\n",
       "      <td>-56.000000</td>\n",
       "      <td>-56.000000</td>\n",
       "      <td>-55.000000</td>\n",
       "      <td>-56.000000</td>\n",
       "      <td>-55.000000</td>\n",
       "      <td>-55.000000</td>\n",
       "      <td>-55.000000</td>\n",
       "      <td>2.000000</td>\n",
       "    </tr>\n",
       "    <tr>\n",
       "      <th>50%</th>\n",
       "      <td>-8.000000</td>\n",
       "      <td>-8.000000</td>\n",
       "      <td>-7.000000</td>\n",
       "      <td>-8.000000</td>\n",
       "      <td>-8.000000</td>\n",
       "      <td>-8.000000</td>\n",
       "      <td>-8.000000</td>\n",
       "      <td>-8.00000</td>\n",
       "      <td>-7.00000</td>\n",
       "      <td>-7.000000</td>\n",
       "      <td>...</td>\n",
       "      <td>-9.000000</td>\n",
       "      <td>-10.000000</td>\n",
       "      <td>-10.000000</td>\n",
       "      <td>-10.000000</td>\n",
       "      <td>-10.000000</td>\n",
       "      <td>-9.000000</td>\n",
       "      <td>-9.000000</td>\n",
       "      <td>-9.000000</td>\n",
       "      <td>-9.000000</td>\n",
       "      <td>3.000000</td>\n",
       "    </tr>\n",
       "    <tr>\n",
       "      <th>75%</th>\n",
       "      <td>34.000000</td>\n",
       "      <td>35.000000</td>\n",
       "      <td>36.000000</td>\n",
       "      <td>36.000000</td>\n",
       "      <td>35.000000</td>\n",
       "      <td>36.000000</td>\n",
       "      <td>35.000000</td>\n",
       "      <td>36.00000</td>\n",
       "      <td>36.00000</td>\n",
       "      <td>35.250000</td>\n",
       "      <td>...</td>\n",
       "      <td>34.000000</td>\n",
       "      <td>34.000000</td>\n",
       "      <td>33.000000</td>\n",
       "      <td>33.000000</td>\n",
       "      <td>34.000000</td>\n",
       "      <td>34.000000</td>\n",
       "      <td>34.000000</td>\n",
       "      <td>34.000000</td>\n",
       "      <td>34.000000</td>\n",
       "      <td>4.000000</td>\n",
       "    </tr>\n",
       "    <tr>\n",
       "      <th>max</th>\n",
       "      <td>1726.000000</td>\n",
       "      <td>1713.000000</td>\n",
       "      <td>1697.000000</td>\n",
       "      <td>1612.000000</td>\n",
       "      <td>1518.000000</td>\n",
       "      <td>1816.000000</td>\n",
       "      <td>2047.000000</td>\n",
       "      <td>2047.00000</td>\n",
       "      <td>2047.00000</td>\n",
       "      <td>2047.000000</td>\n",
       "      <td>...</td>\n",
       "      <td>1777.000000</td>\n",
       "      <td>1472.000000</td>\n",
       "      <td>1319.000000</td>\n",
       "      <td>1436.000000</td>\n",
       "      <td>1733.000000</td>\n",
       "      <td>1958.000000</td>\n",
       "      <td>2047.000000</td>\n",
       "      <td>2047.000000</td>\n",
       "      <td>1915.000000</td>\n",
       "      <td>5.000000</td>\n",
       "    </tr>\n",
       "  </tbody>\n",
       "</table>\n",
       "<p>8 rows × 179 columns</p>\n",
       "</div>"
      ],
      "text/plain": [
       "                 X1            X2            X3            X4            X5  \\\n",
       "count  11500.000000  11500.000000  11500.000000  11500.000000  11500.000000   \n",
       "mean     -11.581391    -10.911565    -10.187130     -9.143043     -8.009739   \n",
       "std      165.626284    166.059609    163.524317    161.269041    160.998007   \n",
       "min    -1839.000000  -1838.000000  -1835.000000  -1845.000000  -1791.000000   \n",
       "25%      -54.000000    -55.000000    -54.000000    -54.000000    -54.000000   \n",
       "50%       -8.000000     -8.000000     -7.000000     -8.000000     -8.000000   \n",
       "75%       34.000000     35.000000     36.000000     36.000000     35.000000   \n",
       "max     1726.000000   1713.000000   1697.000000   1612.000000   1518.000000   \n",
       "\n",
       "                 X6            X7           X8           X9           X10  \\\n",
       "count  11500.000000  11500.000000  11500.00000  11500.00000  11500.000000   \n",
       "mean      -7.003478     -6.502087     -6.68713     -6.55800     -6.168435   \n",
       "std      161.328725    161.467837    162.11912    162.03336    160.436352   \n",
       "min    -1757.000000  -1832.000000  -1778.00000  -1840.00000  -1867.000000   \n",
       "25%      -54.000000    -54.000000    -55.00000    -55.00000    -54.000000   \n",
       "50%       -8.000000     -8.000000     -8.00000     -7.00000     -7.000000   \n",
       "75%       36.000000     35.000000     36.00000     36.00000     35.250000   \n",
       "max     1816.000000   2047.000000   2047.00000   2047.00000   2047.000000   \n",
       "\n",
       "       ...          X170          X171          X172          X173  \\\n",
       "count  ...  11500.000000  11500.000000  11500.000000  11500.000000   \n",
       "mean   ...    -10.145739    -11.630348    -12.943478    -13.668870   \n",
       "std    ...    164.652883    166.149790    168.554058    168.556486   \n",
       "min    ...  -1867.000000  -1865.000000  -1642.000000  -1723.000000   \n",
       "25%    ...    -55.000000    -56.000000    -56.000000    -56.000000   \n",
       "50%    ...     -9.000000    -10.000000    -10.000000    -10.000000   \n",
       "75%    ...     34.000000     34.000000     33.000000     33.000000   \n",
       "max    ...   1777.000000   1472.000000   1319.000000   1436.000000   \n",
       "\n",
       "               X174          X175          X176          X177          X178  \\\n",
       "count  11500.000000  11500.000000  11500.000000  11500.000000  11500.000000   \n",
       "mean     -13.363304    -13.045043    -12.705130    -12.426000    -12.195652   \n",
       "std      167.257290    164.241019    162.895832    162.886311    164.852015   \n",
       "min    -1866.000000  -1863.000000  -1781.000000  -1727.000000  -1829.000000   \n",
       "25%      -55.000000    -56.000000    -55.000000    -55.000000    -55.000000   \n",
       "50%      -10.000000     -9.000000     -9.000000     -9.000000     -9.000000   \n",
       "75%       34.000000     34.000000     34.000000     34.000000     34.000000   \n",
       "max     1733.000000   1958.000000   2047.000000   2047.000000   1915.000000   \n",
       "\n",
       "                  y  \n",
       "count  11500.000000  \n",
       "mean       3.000000  \n",
       "std        1.414275  \n",
       "min        1.000000  \n",
       "25%        2.000000  \n",
       "50%        3.000000  \n",
       "75%        4.000000  \n",
       "max        5.000000  \n",
       "\n",
       "[8 rows x 179 columns]"
      ]
     },
     "execution_count": 9,
     "metadata": {},
     "output_type": "execute_result"
    }
   ],
   "source": [
    "sample_data.describe()"
   ]
  },
  {
   "cell_type": "code",
   "execution_count": 10,
   "id": "8d71f872",
   "metadata": {},
   "outputs": [
    {
     "data": {
      "text/plain": [
       "X1      0\n",
       "X2      0\n",
       "X3      0\n",
       "X4      0\n",
       "X5      0\n",
       "       ..\n",
       "X175    0\n",
       "X176    0\n",
       "X177    0\n",
       "X178    0\n",
       "y       0\n",
       "Length: 179, dtype: int64"
      ]
     },
     "execution_count": 10,
     "metadata": {},
     "output_type": "execute_result"
    }
   ],
   "source": [
    "#Checking for missing variable\n",
    "sample_data.isnull().sum()"
   ]
  },
  {
   "cell_type": "code",
   "execution_count": 11,
   "id": "11bbb0c2",
   "metadata": {},
   "outputs": [],
   "source": [
    "resample_data = sample_data[sample_data.y != 4]\n",
    "resample_data = resample_data[resample_data.y != 3]\n",
    "resample_data = resample_data[resample_data.y != 2]"
   ]
  },
  {
   "cell_type": "code",
   "execution_count": 12,
   "id": "e9bf8158",
   "metadata": {},
   "outputs": [
    {
     "data": {
      "text/html": [
       "<div>\n",
       "<style scoped>\n",
       "    .dataframe tbody tr th:only-of-type {\n",
       "        vertical-align: middle;\n",
       "    }\n",
       "\n",
       "    .dataframe tbody tr th {\n",
       "        vertical-align: top;\n",
       "    }\n",
       "\n",
       "    .dataframe thead th {\n",
       "        text-align: right;\n",
       "    }\n",
       "</style>\n",
       "<table border=\"1\" class=\"dataframe\">\n",
       "  <thead>\n",
       "    <tr style=\"text-align: right;\">\n",
       "      <th></th>\n",
       "      <th>X1</th>\n",
       "      <th>X2</th>\n",
       "      <th>X3</th>\n",
       "      <th>X4</th>\n",
       "      <th>X5</th>\n",
       "      <th>X6</th>\n",
       "      <th>X7</th>\n",
       "      <th>X8</th>\n",
       "      <th>X9</th>\n",
       "      <th>X10</th>\n",
       "      <th>...</th>\n",
       "      <th>X170</th>\n",
       "      <th>X171</th>\n",
       "      <th>X172</th>\n",
       "      <th>X173</th>\n",
       "      <th>X174</th>\n",
       "      <th>X175</th>\n",
       "      <th>X176</th>\n",
       "      <th>X177</th>\n",
       "      <th>X178</th>\n",
       "      <th>y</th>\n",
       "    </tr>\n",
       "  </thead>\n",
       "  <tbody>\n",
       "    <tr>\n",
       "      <th>1</th>\n",
       "      <td>386</td>\n",
       "      <td>382</td>\n",
       "      <td>356</td>\n",
       "      <td>331</td>\n",
       "      <td>320</td>\n",
       "      <td>315</td>\n",
       "      <td>307</td>\n",
       "      <td>272</td>\n",
       "      <td>244</td>\n",
       "      <td>232</td>\n",
       "      <td>...</td>\n",
       "      <td>164</td>\n",
       "      <td>150</td>\n",
       "      <td>146</td>\n",
       "      <td>152</td>\n",
       "      <td>157</td>\n",
       "      <td>156</td>\n",
       "      <td>154</td>\n",
       "      <td>143</td>\n",
       "      <td>129</td>\n",
       "      <td>1</td>\n",
       "    </tr>\n",
       "    <tr>\n",
       "      <th>2</th>\n",
       "      <td>-32</td>\n",
       "      <td>-39</td>\n",
       "      <td>-47</td>\n",
       "      <td>-37</td>\n",
       "      <td>-32</td>\n",
       "      <td>-36</td>\n",
       "      <td>-57</td>\n",
       "      <td>-73</td>\n",
       "      <td>-85</td>\n",
       "      <td>-94</td>\n",
       "      <td>...</td>\n",
       "      <td>57</td>\n",
       "      <td>64</td>\n",
       "      <td>48</td>\n",
       "      <td>19</td>\n",
       "      <td>-12</td>\n",
       "      <td>-30</td>\n",
       "      <td>-35</td>\n",
       "      <td>-35</td>\n",
       "      <td>-36</td>\n",
       "      <td>5</td>\n",
       "    </tr>\n",
       "    <tr>\n",
       "      <th>3</th>\n",
       "      <td>-105</td>\n",
       "      <td>-101</td>\n",
       "      <td>-96</td>\n",
       "      <td>-92</td>\n",
       "      <td>-89</td>\n",
       "      <td>-95</td>\n",
       "      <td>-102</td>\n",
       "      <td>-100</td>\n",
       "      <td>-87</td>\n",
       "      <td>-79</td>\n",
       "      <td>...</td>\n",
       "      <td>-82</td>\n",
       "      <td>-81</td>\n",
       "      <td>-80</td>\n",
       "      <td>-77</td>\n",
       "      <td>-85</td>\n",
       "      <td>-77</td>\n",
       "      <td>-72</td>\n",
       "      <td>-69</td>\n",
       "      <td>-65</td>\n",
       "      <td>5</td>\n",
       "    </tr>\n",
       "    <tr>\n",
       "      <th>4</th>\n",
       "      <td>-9</td>\n",
       "      <td>-65</td>\n",
       "      <td>-98</td>\n",
       "      <td>-102</td>\n",
       "      <td>-78</td>\n",
       "      <td>-48</td>\n",
       "      <td>-16</td>\n",
       "      <td>0</td>\n",
       "      <td>-21</td>\n",
       "      <td>-59</td>\n",
       "      <td>...</td>\n",
       "      <td>4</td>\n",
       "      <td>2</td>\n",
       "      <td>-12</td>\n",
       "      <td>-32</td>\n",
       "      <td>-41</td>\n",
       "      <td>-65</td>\n",
       "      <td>-83</td>\n",
       "      <td>-89</td>\n",
       "      <td>-73</td>\n",
       "      <td>5</td>\n",
       "    </tr>\n",
       "    <tr>\n",
       "      <th>5</th>\n",
       "      <td>55</td>\n",
       "      <td>28</td>\n",
       "      <td>18</td>\n",
       "      <td>16</td>\n",
       "      <td>16</td>\n",
       "      <td>19</td>\n",
       "      <td>25</td>\n",
       "      <td>40</td>\n",
       "      <td>52</td>\n",
       "      <td>66</td>\n",
       "      <td>...</td>\n",
       "      <td>-12</td>\n",
       "      <td>-31</td>\n",
       "      <td>-42</td>\n",
       "      <td>-54</td>\n",
       "      <td>-60</td>\n",
       "      <td>-64</td>\n",
       "      <td>-60</td>\n",
       "      <td>-56</td>\n",
       "      <td>-55</td>\n",
       "      <td>5</td>\n",
       "    </tr>\n",
       "  </tbody>\n",
       "</table>\n",
       "<p>5 rows × 179 columns</p>\n",
       "</div>"
      ],
      "text/plain": [
       "    X1   X2   X3   X4   X5   X6   X7   X8   X9  X10  ...  X170  X171  X172  \\\n",
       "1  386  382  356  331  320  315  307  272  244  232  ...   164   150   146   \n",
       "2  -32  -39  -47  -37  -32  -36  -57  -73  -85  -94  ...    57    64    48   \n",
       "3 -105 -101  -96  -92  -89  -95 -102 -100  -87  -79  ...   -82   -81   -80   \n",
       "4   -9  -65  -98 -102  -78  -48  -16    0  -21  -59  ...     4     2   -12   \n",
       "5   55   28   18   16   16   19   25   40   52   66  ...   -12   -31   -42   \n",
       "\n",
       "   X173  X174  X175  X176  X177  X178  y  \n",
       "1   152   157   156   154   143   129  1  \n",
       "2    19   -12   -30   -35   -35   -36  5  \n",
       "3   -77   -85   -77   -72   -69   -65  5  \n",
       "4   -32   -41   -65   -83   -89   -73  5  \n",
       "5   -54   -60   -64   -60   -56   -55  5  \n",
       "\n",
       "[5 rows x 179 columns]"
      ]
     },
     "execution_count": 12,
     "metadata": {},
     "output_type": "execute_result"
    }
   ],
   "source": [
    "resample_data.head()"
   ]
  },
  {
   "cell_type": "code",
   "execution_count": 13,
   "id": "e6241221",
   "metadata": {},
   "outputs": [
    {
     "data": {
      "text/plain": [
       "(4600, 177)"
      ]
     },
     "execution_count": 13,
     "metadata": {},
     "output_type": "execute_result"
    }
   ],
   "source": [
    "X = resample_data.iloc[:,1:178].values\n",
    "X.shape"
   ]
  },
  {
   "cell_type": "code",
   "execution_count": 14,
   "id": "5b7ced89",
   "metadata": {},
   "outputs": [
    {
     "data": {
      "text/plain": [
       "Text(0.5, 0, 'Samples')"
      ]
     },
     "execution_count": 14,
     "metadata": {},
     "output_type": "execute_result"
    },
    {
     "data": {
      "image/png": "[encoded data removed]",
      "text/plain": [
       "<Figure size 432x288 with 5 Axes>"
      ]
     },
     "metadata": {
      "needs_background": "light"
     },
     "output_type": "display_data"
    }
   ],
   "source": [
    "plt.subplot(511)\n",
    "plt.plot(X[1,:])\n",
    "plt.title('Classes')\n",
    "plt.ylabel('uV')\n",
    "plt.subplot(512)\n",
    "plt.plot(X[7,:])\n",
    "plt.subplot(513)\n",
    "plt.plot(X[12,:])\n",
    "plt.subplot(514)\n",
    "plt.plot(X[0,:])\n",
    "plt.subplot(515)\n",
    "plt.plot(X[2,:])\n",
    "plt.xlabel('Samples')"
   ]
  },
  {
   "cell_type": "code",
   "execution_count": 15,
   "id": "b3d73abb",
   "metadata": {},
   "outputs": [],
   "source": [
    "To_binary = resample_data.y\n",
    "To_binary = To_binary.replace([1,5],[0,1])"
   ]
  },
  {
   "cell_type": "code",
   "execution_count": 16,
   "id": "3e0c2c95",
   "metadata": {},
   "outputs": [
    {
     "data": {
      "text/plain": [
       "array([0, 1, 1, ..., 0, 0, 1], dtype=int64)"
      ]
     },
     "execution_count": 16,
     "metadata": {},
     "output_type": "execute_result"
    }
   ],
   "source": [
    "#label to binary\n",
    "y = To_binary.iloc[:].values\n",
    "y"
   ]
  },
  {
   "cell_type": "code",
   "execution_count": 17,
   "id": "738d671f",
   "metadata": {},
   "outputs": [
    {
     "data": {
      "text/plain": [
       "PCA(n_components=1)"
      ]
     },
     "execution_count": 17,
     "metadata": {},
     "output_type": "execute_result"
    }
   ],
   "source": [
    "from sklearn.decomposition import PCA\n",
    "pca = PCA(n_components=1)\n",
    "pca.fit(X)"
   ]
  },
  {
   "cell_type": "code",
   "execution_count": 18,
   "id": "c2c0a266",
   "metadata": {},
   "outputs": [
    {
     "data": {
      "text/plain": [
       "(4600, 177)"
      ]
     },
     "execution_count": 18,
     "metadata": {},
     "output_type": "execute_result"
    }
   ],
   "source": [
    "X.shape"
   ]
  },
  {
   "cell_type": "code",
   "execution_count": 19,
   "id": "5757a127",
   "metadata": {},
   "outputs": [],
   "source": [
    "#split data into testing and training\n",
    "X_train, X_test, y_train, y_test = train_test_split(X, y, test_size = 0.2)"
   ]
  },
  {
   "cell_type": "code",
   "execution_count": 20,
   "id": "a66aa959",
   "metadata": {},
   "outputs": [
    {
     "data": {
      "text/plain": [
       "array([1, 1, 1, 0, 1, 0, 1, 0, 1, 0, 1, 0, 1, 0, 0, 0, 1, 0, 0, 0, 1, 0,\n",
       "       1, 0, 1, 1, 1, 1, 1, 0], dtype=int64)"
      ]
     },
     "execution_count": 20,
     "metadata": {},
     "output_type": "execute_result"
    }
   ],
   "source": [
    "y_train[0:30]"
   ]
  },
  {
   "cell_type": "code",
   "execution_count": 21,
   "id": "cba9cd59",
   "metadata": {},
   "outputs": [
    {
     "data": {
      "text/plain": [
       "XGBClassifier(base_score=0.5, booster='gbtree', callbacks=None,\n",
       "              colsample_bylevel=1, colsample_bynode=1, colsample_bytree=1,\n",
       "              early_stopping_rounds=None, enable_categorical=False,\n",
       "              eval_metric=None, gamma=0, gpu_id=-1, grow_policy='depthwise',\n",
       "              importance_type=None, interaction_constraints='',\n",
       "              learning_rate=0.3, max_bin=256, max_cat_to_onehot=4,\n",
       "              max_delta_step=0, max_depth=6, max_leaves=0, min_child_weight=1,\n",
       "              missing=nan, monotone_constraints='()', n_estimators=100,\n",
       "              n_jobs=0, num_parallel_tree=1, predictor='auto', random_state=0,\n",
       "              reg_alpha=0, reg_lambda=1, ...)"
      ]
     },
     "execution_count": 21,
     "metadata": {},
     "output_type": "execute_result"
    }
   ],
   "source": [
    "classifier = XGBClassifier(n_estimators=100, n_jobs = 0, learning_rate = 0.3)\n",
    "classifier.fit(X_train, y_train)"
   ]
  },
  {
   "cell_type": "code",
   "execution_count": 22,
   "id": "a941ab12",
   "metadata": {},
   "outputs": [],
   "source": [
    "#predict the test samples\n",
    "y_pred = classifier.predict(X_test)"
   ]
  },
  {
   "cell_type": "code",
   "execution_count": 23,
   "id": "9840b1da",
   "metadata": {},
   "outputs": [
    {
     "data": {
      "text/plain": [
       "0.9782608695652174"
      ]
     },
     "execution_count": 23,
     "metadata": {},
     "output_type": "execute_result"
    }
   ],
   "source": [
    "#10 fold cross validation\n",
    "accuracies = cross_val_score(estimator = classifier,\n",
    "                             X = X_test,\n",
    "                             y = y_test,\n",
    "                             cv = 10,\n",
    "                             n_jobs = -1)\n",
    "#mean accuracy\n",
    "accuracies.mean()"
   ]
  },
  {
   "cell_type": "code",
   "execution_count": 24,
   "id": "23114ccf",
   "metadata": {},
   "outputs": [],
   "source": [
    "#predict the test samples\n",
    "y_pred = classifier.predict(X_test)"
   ]
  },
  {
   "cell_type": "code",
   "execution_count": 25,
   "id": "2ba4dd94",
   "metadata": {},
   "outputs": [
    {
     "data": {
      "text/plain": [
       "0.022800192351525014"
      ]
     },
     "execution_count": 25,
     "metadata": {},
     "output_type": "execute_result"
    }
   ],
   "source": [
    "#standard deviation accuracy\n",
    "accuracies.std()"
   ]
  },
  {
   "cell_type": "code",
   "execution_count": 26,
   "id": "9795db98",
   "metadata": {},
   "outputs": [
    {
     "name": "stdout",
     "output_type": "stream",
     "text": [
      "              precision    recall  f1-score   support\n",
      "\n",
      " Non-seizure       1.00      0.98      0.99       437\n",
      "     Seizure       0.98      1.00      0.99       483\n",
      "\n",
      "    accuracy                           0.99       920\n",
      "   macro avg       0.99      0.99      0.99       920\n",
      "weighted avg       0.99      0.99      0.99       920\n",
      "\n"
     ]
    },
    {
     "data": {
      "text/plain": [
       "<AxesSubplot:>"
      ]
     },
     "execution_count": 26,
     "metadata": {},
     "output_type": "execute_result"
    },
    {
     "data": {
      "image/png": "[encoded data removed]",
      "text/plain": [
       "<Figure size 432x288 with 2 Axes>"
      ]
     },
     "metadata": {
      "needs_background": "light"
     },
     "output_type": "display_data"
    }
   ],
   "source": [
    "cm = confusion_matrix(y_test, y_pred)\n",
    "print(classification_report(y_test, y_pred, target_names=['Non-seizure', 'Seizure']))\n",
    "df_cm = pd.DataFrame(cm, range(2), range(2))\n",
    "sn.heatmap(df_cm, annot=True,fmt='g',cmap ='Blues')# font size"
   ]
  },
  {
   "cell_type": "code",
   "execution_count": 27,
   "id": "3f13df8f",
   "metadata": {},
   "outputs": [
    {
     "data": {
      "text/plain": [
       "RandomForestClassifier(random_state=0)"
      ]
     },
     "execution_count": 27,
     "metadata": {},
     "output_type": "execute_result"
    }
   ],
   "source": [
    "classifier1 = RandomForestClassifier(n_estimators=100, max_depth=None, random_state=0)\n",
    "classifier1.fit(X_train, y_train)"
   ]
  },
  {
   "cell_type": "code",
   "execution_count": 28,
   "id": "1761cc46",
   "metadata": {},
   "outputs": [],
   "source": [
    "y_pred1 = classifier1.predict(X_test)"
   ]
  },
  {
   "cell_type": "code",
   "execution_count": 29,
   "id": "deec9e2d",
   "metadata": {},
   "outputs": [
    {
     "data": {
      "text/plain": [
       "0.9923913043478262"
      ]
     },
     "execution_count": 29,
     "metadata": {},
     "output_type": "execute_result"
    }
   ],
   "source": [
    "accuracies1 = cross_val_score(estimator = classifier1,\n",
    "                             X = X_test,\n",
    "                             y = y_test,\n",
    "                             cv = 10,\n",
    "                             n_jobs = -1)\n",
    "accuracies1.mean()"
   ]
  },
  {
   "cell_type": "code",
   "execution_count": 30,
   "id": "3da455cb",
   "metadata": {},
   "outputs": [
    {
     "data": {
      "text/plain": [
       "0.013791932109184253"
      ]
     },
     "execution_count": 30,
     "metadata": {},
     "output_type": "execute_result"
    }
   ],
   "source": [
    "accuracies1.std()"
   ]
  },
  {
   "cell_type": "code",
   "execution_count": 31,
   "id": "933f6c94",
   "metadata": {},
   "outputs": [
    {
     "name": "stdout",
     "output_type": "stream",
     "text": [
      "              precision    recall  f1-score   support\n",
      "\n",
      " Non-seizure       1.00      0.99      1.00       437\n",
      "     Seizure       0.99      1.00      1.00       483\n",
      "\n",
      "    accuracy                           1.00       920\n",
      "   macro avg       1.00      1.00      1.00       920\n",
      "weighted avg       1.00      1.00      1.00       920\n",
      "\n"
     ]
    },
    {
     "data": {
      "text/plain": [
       "<AxesSubplot:>"
      ]
     },
     "execution_count": 31,
     "metadata": {},
     "output_type": "execute_result"
    },
    {
     "data": {
      "image/png": "[encoded data removed]",
      "text/plain": [
       "<Figure size 432x288 with 2 Axes>"
      ]
     },
     "metadata": {
      "needs_background": "light"
     },
     "output_type": "display_data"
    }
   ],
   "source": [
    "cm1 = confusion_matrix(y_test, y_pred1)\n",
    "print(classification_report(y_test, y_pred1, target_names=['Non-seizure', 'Seizure']))\n",
    "\n",
    "df_cm1 = pd.DataFrame(cm1, range(2), range(2))\n",
    "sn.heatmap(df_cm1, annot=True,fmt='g',cmap ='Blues')# font size"
   ]
  },
  {
   "cell_type": "code",
   "execution_count": 32,
   "id": "27f763dc",
   "metadata": {},
   "outputs": [
    {
     "data": {
      "text/plain": [
       "GradientBoostingClassifier(max_depth=None, n_estimators=50, random_state=0)"
      ]
     },
     "execution_count": 32,
     "metadata": {},
     "output_type": "execute_result"
    }
   ],
   "source": [
    "classifier2 = GradientBoostingClassifier(n_estimators=50, max_depth=None, random_state=0)\n",
    "classifier2.fit(X_train, y_train)"
   ]
  },
  {
   "cell_type": "code",
   "execution_count": 33,
   "id": "c4fcd886",
   "metadata": {},
   "outputs": [],
   "source": [
    "y_pred2 = classifier2.predict(X_test)"
   ]
  },
  {
   "cell_type": "code",
   "execution_count": 34,
   "id": "5d4f6375",
   "metadata": {},
   "outputs": [
    {
     "data": {
      "text/plain": [
       "0.9510869565217392"
      ]
     },
     "execution_count": 34,
     "metadata": {},
     "output_type": "execute_result"
    }
   ],
   "source": [
    "accuracies2 = cross_val_score(estimator = classifier2,\n",
    "                             X = X_test,\n",
    "                             y = y_test,\n",
    "                             cv = 10,\n",
    "                             n_jobs = -1)\n",
    "accuracies2.mean()"
   ]
  },
  {
   "cell_type": "code",
   "execution_count": 35,
   "id": "dd73a73f",
   "metadata": {},
   "outputs": [
    {
     "data": {
      "text/plain": [
       "0.01769437021315185"
      ]
     },
     "execution_count": 35,
     "metadata": {},
     "output_type": "execute_result"
    }
   ],
   "source": [
    "accuracies2.std()"
   ]
  },
  {
   "cell_type": "code",
   "execution_count": 36,
   "id": "57d906f6",
   "metadata": {},
   "outputs": [
    {
     "name": "stdout",
     "output_type": "stream",
     "text": [
      "              precision    recall  f1-score   support\n",
      "\n",
      " Non-seizure       0.96      0.94      0.95       437\n",
      "     Seizure       0.94      0.96      0.95       483\n",
      "\n",
      "    accuracy                           0.95       920\n",
      "   macro avg       0.95      0.95      0.95       920\n",
      "weighted avg       0.95      0.95      0.95       920\n",
      "\n"
     ]
    },
    {
     "data": {
      "text/plain": [
       "<AxesSubplot:>"
      ]
     },
     "execution_count": 36,
     "metadata": {},
     "output_type": "execute_result"
    },
    {
     "data": {
      "image/png": "[encoded data removed]",
      "text/plain": [
       "<Figure size 432x288 with 2 Axes>"
      ]
     },
     "metadata": {
      "needs_background": "light"
     },
     "output_type": "display_data"
    }
   ],
   "source": [
    "cm2 = confusion_matrix(y_test, y_pred2)\n",
    "print(classification_report(y_test, y_pred2, target_names=['Non-seizure', 'Seizure']))\n",
    "\n",
    "df_cm2 = pd.DataFrame(cm2, range(2), range(2))\n",
    "sn.heatmap(df_cm2, annot=True,fmt='g',cmap ='Blues')# font size"
   ]
  },
  {
   "cell_type": "code",
   "execution_count": 37,
   "id": "d779c05a",
   "metadata": {},
   "outputs": [
    {
     "data": {
      "text/plain": [
       "AdaBoostClassifier(n_estimators=100, random_state=0)"
      ]
     },
     "execution_count": 37,
     "metadata": {},
     "output_type": "execute_result"
    }
   ],
   "source": [
    "classifier3 = AdaBoostClassifier(n_estimators=100, random_state=0)\n",
    "classifier3.fit(X_train, y_train)"
   ]
  },
  {
   "cell_type": "code",
   "execution_count": 38,
   "id": "8572531f",
   "metadata": {},
   "outputs": [],
   "source": [
    "y_pred3 = classifier3.predict(X_test)"
   ]
  },
  {
   "cell_type": "code",
   "execution_count": 39,
   "id": "99e02a5e",
   "metadata": {},
   "outputs": [
    {
     "data": {
      "text/plain": [
       "0.9684782608695652"
      ]
     },
     "execution_count": 39,
     "metadata": {},
     "output_type": "execute_result"
    }
   ],
   "source": [
    "accuracies3 = cross_val_score(estimator = classifier3,\n",
    "                             X = X_test,\n",
    "                             y = y_test,\n",
    "                             cv = 10,\n",
    "                             n_jobs = -1)\n",
    "accuracies3.mean()"
   ]
  },
  {
   "cell_type": "code",
   "execution_count": 40,
   "id": "ca2418ff",
   "metadata": {},
   "outputs": [
    {
     "data": {
      "text/plain": [
       "0.024522856897127115"
      ]
     },
     "execution_count": 40,
     "metadata": {},
     "output_type": "execute_result"
    }
   ],
   "source": [
    "accuracies3.std()"
   ]
  },
  {
   "cell_type": "code",
   "execution_count": 41,
   "id": "0b30fe55",
   "metadata": {},
   "outputs": [
    {
     "name": "stdout",
     "output_type": "stream",
     "text": [
      "              precision    recall  f1-score   support\n",
      "\n",
      " Non-seizure       0.98      0.99      0.98       437\n",
      "     Seizure       0.99      0.98      0.98       483\n",
      "\n",
      "    accuracy                           0.98       920\n",
      "   macro avg       0.98      0.98      0.98       920\n",
      "weighted avg       0.98      0.98      0.98       920\n",
      "\n"
     ]
    },
    {
     "data": {
      "text/plain": [
       "<AxesSubplot:>"
      ]
     },
     "execution_count": 41,
     "metadata": {},
     "output_type": "execute_result"
    },
    {
     "data": {
      "image/png": "[encoded data removed]",
      "text/plain": [
       "<Figure size 432x288 with 2 Axes>"
      ]
     },
     "metadata": {
      "needs_background": "light"
     },
     "output_type": "display_data"
    }
   ],
   "source": [
    "cm3 = confusion_matrix(y_test, y_pred3)\n",
    "print(classification_report(y_test, y_pred3, target_names=['Non-seizure', 'Seizure']))\n",
    "\n",
    "df_cm3 = pd.DataFrame(cm3, range(2), range(2))\n",
    "sn.heatmap(df_cm1, annot=True,fmt='g',cmap ='Blues')# font size"
   ]
  },
  {
   "cell_type": "code",
   "execution_count": 42,
   "id": "6b191500",
   "metadata": {},
   "outputs": [
    {
     "data": {
      "text/plain": [
       "BaggingClassifier(n_estimators=25, random_state=0)"
      ]
     },
     "execution_count": 42,
     "metadata": {},
     "output_type": "execute_result"
    }
   ],
   "source": [
    "classifier4 = BaggingClassifier(n_estimators=25, random_state=0)\n",
    "classifier4.fit(X_train, y_train)"
   ]
  },
  {
   "cell_type": "code",
   "execution_count": 43,
   "id": "3552c394",
   "metadata": {},
   "outputs": [],
   "source": [
    "y_pred4 = classifier4.predict(X_test)"
   ]
  },
  {
   "cell_type": "code",
   "execution_count": 44,
   "id": "1fe602fe",
   "metadata": {},
   "outputs": [
    {
     "data": {
      "text/plain": [
       "0.9902173913043478"
      ]
     },
     "execution_count": 44,
     "metadata": {},
     "output_type": "execute_result"
    }
   ],
   "source": [
    "accuracies4 = cross_val_score(estimator = classifier4,\n",
    "                             X = X_test,\n",
    "                             y = y_test,\n",
    "                             cv = 10,\n",
    "                             n_jobs = -1)\n",
    "accuracies4.mean()"
   ]
  },
  {
   "cell_type": "code",
   "execution_count": 45,
   "id": "3fa4f9f0",
   "metadata": {},
   "outputs": [
    {
     "data": {
      "text/plain": [
       "0.013267995234493166"
      ]
     },
     "execution_count": 45,
     "metadata": {},
     "output_type": "execute_result"
    }
   ],
   "source": [
    "accuracies4.std()"
   ]
  },
  {
   "cell_type": "code",
   "execution_count": 46,
   "id": "0eb9af8b",
   "metadata": {},
   "outputs": [
    {
     "name": "stdout",
     "output_type": "stream",
     "text": [
      "              precision    recall  f1-score   support\n",
      "\n",
      " Non-seizure       0.99      0.98      0.99       437\n",
      "     Seizure       0.99      0.99      0.99       483\n",
      "\n",
      "    accuracy                           0.99       920\n",
      "   macro avg       0.99      0.99      0.99       920\n",
      "weighted avg       0.99      0.99      0.99       920\n",
      "\n"
     ]
    },
    {
     "data": {
      "text/plain": [
       "<AxesSubplot:>"
      ]
     },
     "execution_count": 46,
     "metadata": {},
     "output_type": "execute_result"
    },
    {
     "data": {
      "image/png": "[encoded data removed]",
      "text/plain": [
       "<Figure size 432x288 with 2 Axes>"
      ]
     },
     "metadata": {
      "needs_background": "light"
     },
     "output_type": "display_data"
    }
   ],
   "source": [
    "cm4 = confusion_matrix(y_test, y_pred4)\n",
    "print(classification_report(y_test, y_pred4, target_names=['Non-seizure', 'Seizure']))\n",
    "\n",
    "df_cm4 = pd.DataFrame(cm4, range(2), range(2))\n",
    "sn.heatmap(df_cm4, annot=True,fmt='g',cmap ='Blues')# font size"
   ]
  },
  {
   "cell_type": "code",
   "execution_count": 47,
   "id": "b168f170",
   "metadata": {},
   "outputs": [
    {
     "data": {
      "text/plain": [
       "DecisionTreeClassifier(random_state=0)"
      ]
     },
     "execution_count": 47,
     "metadata": {},
     "output_type": "execute_result"
    }
   ],
   "source": [
    "classifier5 = DecisionTreeClassifier(random_state=0)\n",
    "classifier5.fit(X_train, y_train)"
   ]
  },
  {
   "cell_type": "code",
   "execution_count": 48,
   "id": "230cebc4",
   "metadata": {},
   "outputs": [],
   "source": [
    "y_pred5 = classifier5.predict(X_test)"
   ]
  },
  {
   "cell_type": "code",
   "execution_count": 49,
   "id": "9f2be958",
   "metadata": {},
   "outputs": [
    {
     "data": {
      "text/plain": [
       "0.9369565217391305"
      ]
     },
     "execution_count": 49,
     "metadata": {},
     "output_type": "execute_result"
    }
   ],
   "source": [
    "accuracies5 = cross_val_score(estimator = classifier5,\n",
    "                             X = X_test,\n",
    "                             y = y_test,\n",
    "                             cv = 10,\n",
    "                             n_jobs = -1)\n",
    "accuracies5.mean()"
   ]
  },
  {
   "cell_type": "code",
   "execution_count": 50,
   "id": "8ec43966",
   "metadata": {},
   "outputs": [
    {
     "data": {
      "text/plain": [
       "0.026086956521739115"
      ]
     },
     "execution_count": 50,
     "metadata": {},
     "output_type": "execute_result"
    }
   ],
   "source": [
    "accuracies5.std()"
   ]
  },
  {
   "cell_type": "code",
   "execution_count": 51,
   "id": "e7df8cd7",
   "metadata": {},
   "outputs": [
    {
     "name": "stdout",
     "output_type": "stream",
     "text": [
      "              precision    recall  f1-score   support\n",
      "\n",
      " Non-seizure       0.95      0.92      0.93       437\n",
      "     Seizure       0.93      0.95      0.94       483\n",
      "\n",
      "    accuracy                           0.94       920\n",
      "   macro avg       0.94      0.94      0.94       920\n",
      "weighted avg       0.94      0.94      0.94       920\n",
      "\n"
     ]
    },
    {
     "data": {
      "text/plain": [
       "<AxesSubplot:>"
      ]
     },
     "execution_count": 51,
     "metadata": {},
     "output_type": "execute_result"
    },
    {
     "data": {
      "image/png": "[encoded data removed]",
      "text/plain": [
       "<Figure size 432x288 with 2 Axes>"
      ]
     },
     "metadata": {
      "needs_background": "light"
     },
     "output_type": "display_data"
    }
   ],
   "source": [
    "cm5 = confusion_matrix(y_test, y_pred5)\n",
    "print(classification_report(y_test, y_pred5, target_names=['Non-seizure', 'Seizure']))\n",
    "\n",
    "df_cm5 = pd.DataFrame(cm5, range(2), range(2))\n",
    "sn.heatmap(df_cm4, annot=True,fmt='g',cmap ='Blues')# font size"
   ]
  },
  {
   "cell_type": "markdown",
   "id": "b3fbfcb5",
   "metadata": {},
   "source": [
    "# 2nd classification\n"
   ]
  },
  {
   "cell_type": "code",
   "execution_count": 52,
   "id": "718f20a2",
   "metadata": {},
   "outputs": [],
   "source": [
    "resample_data = sample_data[sample_data.y != 5]\n",
    "resample_data = resample_data[resample_data.y != 3]\n",
    "resample_data = resample_data[resample_data.y != 1]"
   ]
  },
  {
   "cell_type": "code",
   "execution_count": 53,
   "id": "f445116f",
   "metadata": {},
   "outputs": [
    {
     "data": {
      "text/plain": [
       "0        4\n",
       "6        4\n",
       "7        2\n",
       "9        4\n",
       "13       4\n",
       "        ..\n",
       "11486    4\n",
       "11491    2\n",
       "11493    2\n",
       "11495    2\n",
       "11499    4\n",
       "Name: y, Length: 4600, dtype: int64"
      ]
     },
     "execution_count": 53,
     "metadata": {},
     "output_type": "execute_result"
    }
   ],
   "source": [
    "resample_data.y"
   ]
  },
  {
   "cell_type": "code",
   "execution_count": 54,
   "id": "22093df5",
   "metadata": {},
   "outputs": [
    {
     "data": {
      "text/html": [
       "<div>\n",
       "<style scoped>\n",
       "    .dataframe tbody tr th:only-of-type {\n",
       "        vertical-align: middle;\n",
       "    }\n",
       "\n",
       "    .dataframe tbody tr th {\n",
       "        vertical-align: top;\n",
       "    }\n",
       "\n",
       "    .dataframe thead th {\n",
       "        text-align: right;\n",
       "    }\n",
       "</style>\n",
       "<table border=\"1\" class=\"dataframe\">\n",
       "  <thead>\n",
       "    <tr style=\"text-align: right;\">\n",
       "      <th></th>\n",
       "      <th>X1</th>\n",
       "      <th>X2</th>\n",
       "      <th>X3</th>\n",
       "      <th>X4</th>\n",
       "      <th>X5</th>\n",
       "      <th>X6</th>\n",
       "      <th>X7</th>\n",
       "      <th>X8</th>\n",
       "      <th>X9</th>\n",
       "      <th>X10</th>\n",
       "      <th>...</th>\n",
       "      <th>X170</th>\n",
       "      <th>X171</th>\n",
       "      <th>X172</th>\n",
       "      <th>X173</th>\n",
       "      <th>X174</th>\n",
       "      <th>X175</th>\n",
       "      <th>X176</th>\n",
       "      <th>X177</th>\n",
       "      <th>X178</th>\n",
       "      <th>y</th>\n",
       "    </tr>\n",
       "  </thead>\n",
       "  <tbody>\n",
       "    <tr>\n",
       "      <th>0</th>\n",
       "      <td>135</td>\n",
       "      <td>190</td>\n",
       "      <td>229</td>\n",
       "      <td>223</td>\n",
       "      <td>192</td>\n",
       "      <td>125</td>\n",
       "      <td>55</td>\n",
       "      <td>-9</td>\n",
       "      <td>-33</td>\n",
       "      <td>-38</td>\n",
       "      <td>...</td>\n",
       "      <td>-17</td>\n",
       "      <td>-15</td>\n",
       "      <td>-31</td>\n",
       "      <td>-77</td>\n",
       "      <td>-103</td>\n",
       "      <td>-127</td>\n",
       "      <td>-116</td>\n",
       "      <td>-83</td>\n",
       "      <td>-51</td>\n",
       "      <td>4</td>\n",
       "    </tr>\n",
       "    <tr>\n",
       "      <th>6</th>\n",
       "      <td>-55</td>\n",
       "      <td>-9</td>\n",
       "      <td>52</td>\n",
       "      <td>111</td>\n",
       "      <td>135</td>\n",
       "      <td>129</td>\n",
       "      <td>103</td>\n",
       "      <td>72</td>\n",
       "      <td>37</td>\n",
       "      <td>0</td>\n",
       "      <td>...</td>\n",
       "      <td>-125</td>\n",
       "      <td>-99</td>\n",
       "      <td>-79</td>\n",
       "      <td>-62</td>\n",
       "      <td>-41</td>\n",
       "      <td>-26</td>\n",
       "      <td>11</td>\n",
       "      <td>67</td>\n",
       "      <td>128</td>\n",
       "      <td>4</td>\n",
       "    </tr>\n",
       "    <tr>\n",
       "      <th>7</th>\n",
       "      <td>1</td>\n",
       "      <td>-2</td>\n",
       "      <td>-8</td>\n",
       "      <td>-11</td>\n",
       "      <td>-12</td>\n",
       "      <td>-17</td>\n",
       "      <td>-15</td>\n",
       "      <td>-16</td>\n",
       "      <td>-18</td>\n",
       "      <td>-17</td>\n",
       "      <td>...</td>\n",
       "      <td>-79</td>\n",
       "      <td>-91</td>\n",
       "      <td>-97</td>\n",
       "      <td>-88</td>\n",
       "      <td>-76</td>\n",
       "      <td>-72</td>\n",
       "      <td>-66</td>\n",
       "      <td>-57</td>\n",
       "      <td>-39</td>\n",
       "      <td>2</td>\n",
       "    </tr>\n",
       "    <tr>\n",
       "      <th>9</th>\n",
       "      <td>8</td>\n",
       "      <td>15</td>\n",
       "      <td>13</td>\n",
       "      <td>3</td>\n",
       "      <td>-6</td>\n",
       "      <td>-8</td>\n",
       "      <td>-5</td>\n",
       "      <td>4</td>\n",
       "      <td>25</td>\n",
       "      <td>41</td>\n",
       "      <td>...</td>\n",
       "      <td>49</td>\n",
       "      <td>31</td>\n",
       "      <td>11</td>\n",
       "      <td>-5</td>\n",
       "      <td>-17</td>\n",
       "      <td>-19</td>\n",
       "      <td>-15</td>\n",
       "      <td>-15</td>\n",
       "      <td>-11</td>\n",
       "      <td>4</td>\n",
       "    </tr>\n",
       "    <tr>\n",
       "      <th>13</th>\n",
       "      <td>15</td>\n",
       "      <td>12</td>\n",
       "      <td>0</td>\n",
       "      <td>-17</td>\n",
       "      <td>-28</td>\n",
       "      <td>-31</td>\n",
       "      <td>-39</td>\n",
       "      <td>-51</td>\n",
       "      <td>-44</td>\n",
       "      <td>-35</td>\n",
       "      <td>...</td>\n",
       "      <td>-88</td>\n",
       "      <td>-102</td>\n",
       "      <td>-97</td>\n",
       "      <td>-77</td>\n",
       "      <td>-45</td>\n",
       "      <td>-19</td>\n",
       "      <td>13</td>\n",
       "      <td>44</td>\n",
       "      <td>68</td>\n",
       "      <td>4</td>\n",
       "    </tr>\n",
       "  </tbody>\n",
       "</table>\n",
       "<p>5 rows × 179 columns</p>\n",
       "</div>"
      ],
      "text/plain": [
       "     X1   X2   X3   X4   X5   X6   X7  X8  X9  X10  ...  X170  X171  X172  \\\n",
       "0   135  190  229  223  192  125   55  -9 -33  -38  ...   -17   -15   -31   \n",
       "6   -55   -9   52  111  135  129  103  72  37    0  ...  -125   -99   -79   \n",
       "7     1   -2   -8  -11  -12  -17  -15 -16 -18  -17  ...   -79   -91   -97   \n",
       "9     8   15   13    3   -6   -8   -5   4  25   41  ...    49    31    11   \n",
       "13   15   12    0  -17  -28  -31  -39 -51 -44  -35  ...   -88  -102   -97   \n",
       "\n",
       "    X173  X174  X175  X176  X177  X178  y  \n",
       "0    -77  -103  -127  -116   -83   -51  4  \n",
       "6    -62   -41   -26    11    67   128  4  \n",
       "7    -88   -76   -72   -66   -57   -39  2  \n",
       "9     -5   -17   -19   -15   -15   -11  4  \n",
       "13   -77   -45   -19    13    44    68  4  \n",
       "\n",
       "[5 rows x 179 columns]"
      ]
     },
     "execution_count": 54,
     "metadata": {},
     "output_type": "execute_result"
    }
   ],
   "source": [
    "resample_data.head()"
   ]
  },
  {
   "cell_type": "code",
   "execution_count": 55,
   "id": "8ae57bdd",
   "metadata": {},
   "outputs": [
    {
     "data": {
      "text/plain": [
       "(4600, 177)"
      ]
     },
     "execution_count": 55,
     "metadata": {},
     "output_type": "execute_result"
    }
   ],
   "source": [
    "X = resample_data.iloc[:,1:178].values\n",
    "X.shape"
   ]
  },
  {
   "cell_type": "code",
   "execution_count": 56,
   "id": "857cc0ce",
   "metadata": {},
   "outputs": [
    {
     "data": {
      "text/plain": [
       "Text(0.5, 0, 'Samples')"
      ]
     },
     "execution_count": 56,
     "metadata": {},
     "output_type": "execute_result"
    },
    {
     "data": {
      "image/png": "[encoded data removed]",
      "text/plain": [
       "<Figure size 432x288 with 5 Axes>"
      ]
     },
     "metadata": {
      "needs_background": "light"
     },
     "output_type": "display_data"
    }
   ],
   "source": [
    "plt.subplot(511)\n",
    "plt.plot(X[1,:])\n",
    "plt.title('Classes')\n",
    "plt.ylabel('uV')\n",
    "plt.subplot(512)\n",
    "plt.plot(X[7,:])\n",
    "plt.subplot(513)\n",
    "plt.plot(X[12,:])\n",
    "plt.subplot(514)\n",
    "plt.plot(X[0,:])\n",
    "plt.subplot(515)\n",
    "plt.plot(X[2,:])\n",
    "plt.xlabel('Samples')"
   ]
  },
  {
   "cell_type": "code",
   "execution_count": 57,
   "id": "5d88d12b",
   "metadata": {},
   "outputs": [],
   "source": [
    "To_binary = resample_data.y\n",
    "To_binary = To_binary.replace([2,4],[0,1])"
   ]
  },
  {
   "cell_type": "code",
   "execution_count": 58,
   "id": "b300d8c5",
   "metadata": {},
   "outputs": [
    {
     "data": {
      "text/plain": [
       "array([1, 1, 0, ..., 0, 0, 1], dtype=int64)"
      ]
     },
     "execution_count": 58,
     "metadata": {},
     "output_type": "execute_result"
    }
   ],
   "source": [
    "#label to binary\n",
    "y = To_binary.iloc[:].values\n",
    "y"
   ]
  },
  {
   "cell_type": "code",
   "execution_count": 59,
   "id": "04c0901f",
   "metadata": {},
   "outputs": [
    {
     "data": {
      "image/png": "[encoded data removed]",
      "text/plain": [
       "<Figure size 432x288 with 1 Axes>"
      ]
     },
     "metadata": {
      "needs_background": "light"
     },
     "output_type": "display_data"
    }
   ],
   "source": [
    "cols = resample_data.columns\n",
    "ax = sn.countplot(x=\"y\", data=resample_data)"
   ]
  },
  {
   "cell_type": "code",
   "execution_count": 60,
   "id": "75a76c25",
   "metadata": {},
   "outputs": [
    {
     "data": {
      "text/plain": [
       "(4600, 177)"
      ]
     },
     "execution_count": 60,
     "metadata": {},
     "output_type": "execute_result"
    }
   ],
   "source": [
    "X = resample_data.iloc[:,1:178].values\n",
    "X.shape"
   ]
  },
  {
   "cell_type": "code",
   "execution_count": 61,
   "id": "a3fad3a4",
   "metadata": {},
   "outputs": [
    {
     "data": {
      "text/plain": [
       "array([4, 4, 2, 4, 4, 2, 2, 4, 2, 2, 2, 2, 2, 4, 4, 2, 4, 2, 4, 2, 4, 4,\n",
       "       2, 4, 4, 4, 4, 4, 4, 4], dtype=int64)"
      ]
     },
     "execution_count": 61,
     "metadata": {},
     "output_type": "execute_result"
    }
   ],
   "source": [
    "y = resample_data['y'].values\n",
    "y[0:30]"
   ]
  },
  {
   "cell_type": "code",
   "execution_count": 62,
   "id": "4845238d",
   "metadata": {},
   "outputs": [
    {
     "data": {
      "text/plain": [
       "LabelEncoder()"
      ]
     },
     "execution_count": 62,
     "metadata": {},
     "output_type": "execute_result"
    }
   ],
   "source": [
    "le = LabelEncoder()\n",
    "le.fit(y)"
   ]
  },
  {
   "cell_type": "code",
   "execution_count": 63,
   "id": "7b525a7d",
   "metadata": {},
   "outputs": [
    {
     "data": {
      "text/plain": [
       "array([2, 4], dtype=int64)"
      ]
     },
     "execution_count": 63,
     "metadata": {},
     "output_type": "execute_result"
    }
   ],
   "source": [
    "le.classes_"
   ]
  },
  {
   "cell_type": "code",
   "execution_count": 64,
   "id": "10121086",
   "metadata": {},
   "outputs": [],
   "source": [
    "y = le.transform(y)"
   ]
  },
  {
   "cell_type": "code",
   "execution_count": 65,
   "id": "343831ab",
   "metadata": {},
   "outputs": [
    {
     "data": {
      "text/plain": [
       "array([1, 1, 0, 1, 1, 0, 0, 1, 0, 0, 0, 0, 0, 1, 1, 0, 1, 0, 1, 0, 1, 1,\n",
       "       0, 1, 1, 1, 1, 1, 1, 1], dtype=int64)"
      ]
     },
     "execution_count": 65,
     "metadata": {},
     "output_type": "execute_result"
    }
   ],
   "source": [
    "y[0:30]"
   ]
  },
  {
   "cell_type": "code",
   "execution_count": 66,
   "id": "84cf16cd",
   "metadata": {},
   "outputs": [
    {
     "data": {
      "text/plain": [
       "PCA(n_components=1)"
      ]
     },
     "execution_count": 66,
     "metadata": {},
     "output_type": "execute_result"
    }
   ],
   "source": [
    "from sklearn.decomposition import PCA\n",
    "pca = PCA(n_components=1)\n",
    "pca.fit(X)"
   ]
  },
  {
   "cell_type": "code",
   "execution_count": 67,
   "id": "d023313e",
   "metadata": {},
   "outputs": [
    {
     "data": {
      "text/plain": [
       "(4600, 177)"
      ]
     },
     "execution_count": 67,
     "metadata": {},
     "output_type": "execute_result"
    }
   ],
   "source": [
    "X.shape"
   ]
  },
  {
   "cell_type": "code",
   "execution_count": 68,
   "id": "39e91496",
   "metadata": {},
   "outputs": [],
   "source": [
    "#split data into testing and training\n",
    "X_train, X_test, y_train, y_test = train_test_split(X, y, test_size = 0.2)"
   ]
  },
  {
   "cell_type": "code",
   "execution_count": 69,
   "id": "864d25bd",
   "metadata": {},
   "outputs": [
    {
     "data": {
      "text/plain": [
       "array([1, 1, 0, 1, 0, 1, 1, 1, 1, 1, 1, 1, 0, 1, 1, 1, 1, 0, 0, 1, 0, 1,\n",
       "       0, 1, 1, 0, 0, 0, 0, 1], dtype=int64)"
      ]
     },
     "execution_count": 69,
     "metadata": {},
     "output_type": "execute_result"
    }
   ],
   "source": [
    "y_train[0:30]"
   ]
  },
  {
   "cell_type": "code",
   "execution_count": 70,
   "id": "3870f4ba",
   "metadata": {},
   "outputs": [
    {
     "data": {
      "text/plain": [
       "XGBClassifier(base_score=0.5, booster='gbtree', callbacks=None,\n",
       "              colsample_bylevel=1, colsample_bynode=1, colsample_bytree=1,\n",
       "              early_stopping_rounds=None, enable_categorical=False,\n",
       "              eval_metric=None, gamma=0, gpu_id=-1, grow_policy='depthwise',\n",
       "              importance_type=None, interaction_constraints='',\n",
       "              learning_rate=0.3, max_bin=256, max_cat_to_onehot=4,\n",
       "              max_delta_step=0, max_depth=6, max_leaves=0, min_child_weight=1,\n",
       "              missing=nan, monotone_constraints='()', n_estimators=100,\n",
       "              n_jobs=1, num_parallel_tree=1, predictor='auto', random_state=0,\n",
       "              reg_alpha=0, reg_lambda=1, ...)"
      ]
     },
     "execution_count": 70,
     "metadata": {},
     "output_type": "execute_result"
    }
   ],
   "source": [
    "classifier = XGBClassifier(n_estimators=100, n_jobs = 1, learning_rate = 0.3)\n",
    "classifier.fit(X_train, y_train)"
   ]
  },
  {
   "cell_type": "code",
   "execution_count": 71,
   "id": "5e6d0b0b",
   "metadata": {},
   "outputs": [],
   "source": [
    "#predict the test samples\n",
    "y_pred = classifier.predict(X_test)"
   ]
  },
  {
   "cell_type": "code",
   "execution_count": 72,
   "id": "e3375966",
   "metadata": {},
   "outputs": [
    {
     "data": {
      "text/plain": [
       "0.8760869565217391"
      ]
     },
     "execution_count": 72,
     "metadata": {},
     "output_type": "execute_result"
    }
   ],
   "source": [
    "#10 fold cross validation\n",
    "accuracies = cross_val_score(estimator = classifier,\n",
    "                             X = X_test,\n",
    "                             y = y_test,\n",
    "                             cv = 10,\n",
    "                             n_jobs = -1)\n",
    "#mean accuracy\n",
    "accuracies.mean()"
   ]
  },
  {
   "cell_type": "code",
   "execution_count": 73,
   "id": "b270cf30",
   "metadata": {},
   "outputs": [
    {
     "data": {
      "text/plain": [
       "0.02129991080681023"
      ]
     },
     "execution_count": 73,
     "metadata": {},
     "output_type": "execute_result"
    }
   ],
   "source": [
    "#standard deviation accuracy\n",
    "accuracies.std()"
   ]
  },
  {
   "cell_type": "code",
   "execution_count": 74,
   "id": "8ee94495",
   "metadata": {},
   "outputs": [
    {
     "name": "stdout",
     "output_type": "stream",
     "text": [
      "                          precision    recall  f1-score   support\n",
      "\n",
      "Non-seizure(eyes_closed)       0.91      0.97      0.94       454\n",
      "     Tumor_Affected_Area       0.97      0.91      0.93       466\n",
      "\n",
      "                accuracy                           0.94       920\n",
      "               macro avg       0.94      0.94      0.94       920\n",
      "            weighted avg       0.94      0.94      0.94       920\n",
      "\n"
     ]
    },
    {
     "data": {
      "text/plain": [
       "<AxesSubplot:>"
      ]
     },
     "execution_count": 74,
     "metadata": {},
     "output_type": "execute_result"
    },
    {
     "data": {
      "image/png": "[encoded data removed]",
      "text/plain": [
       "<Figure size 432x288 with 2 Axes>"
      ]
     },
     "metadata": {
      "needs_background": "light"
     },
     "output_type": "display_data"
    }
   ],
   "source": [
    "cm = confusion_matrix(y_test, y_pred)\n",
    "print(classification_report(y_test, y_pred, target_names=['Non-seizure(eyes_closed)', 'Tumor_Affected_Area']))\n",
    "df_cm = pd.DataFrame(cm, range(2), range(2))\n",
    "sn.heatmap(df_cm, annot=True,fmt='g',cmap ='Blues')# font size"
   ]
  },
  {
   "cell_type": "code",
   "execution_count": 75,
   "id": "57507e48",
   "metadata": {},
   "outputs": [
    {
     "data": {
      "text/plain": [
       "RandomForestClassifier(random_state=0)"
      ]
     },
     "execution_count": 75,
     "metadata": {},
     "output_type": "execute_result"
    }
   ],
   "source": [
    "classifier1 = RandomForestClassifier(n_estimators=100, max_depth=None, random_state=0)\n",
    "classifier1.fit(X_train, y_train)"
   ]
  },
  {
   "cell_type": "code",
   "execution_count": 76,
   "id": "844e5088",
   "metadata": {},
   "outputs": [],
   "source": [
    "y_pred1 = classifier1.predict(X_test)"
   ]
  },
  {
   "cell_type": "code",
   "execution_count": 77,
   "id": "68565d8d",
   "metadata": {},
   "outputs": [
    {
     "data": {
      "text/plain": [
       "0.8652173913043478"
      ]
     },
     "execution_count": 77,
     "metadata": {},
     "output_type": "execute_result"
    }
   ],
   "source": [
    "accuracies1 = cross_val_score(estimator = classifier1,\n",
    "                             X = X_test,\n",
    "                             y = y_test,\n",
    "                             cv = 10,\n",
    "                             n_jobs = -1)\n",
    "accuracies1.mean()"
   ]
  },
  {
   "cell_type": "code",
   "execution_count": 78,
   "id": "31d202da",
   "metadata": {},
   "outputs": [
    {
     "data": {
      "text/plain": [
       "0.02800891027548939"
      ]
     },
     "execution_count": 78,
     "metadata": {},
     "output_type": "execute_result"
    }
   ],
   "source": [
    "accuracies1.std()"
   ]
  },
  {
   "cell_type": "code",
   "execution_count": 79,
   "id": "b6dad31b",
   "metadata": {},
   "outputs": [
    {
     "name": "stdout",
     "output_type": "stream",
     "text": [
      "                          precision    recall  f1-score   support\n",
      "\n",
      "Non-seizure(eyes_closed)       0.91      0.95      0.93       454\n",
      "     Tumor_Affected_Area       0.95      0.91      0.93       466\n",
      "\n",
      "                accuracy                           0.93       920\n",
      "               macro avg       0.93      0.93      0.93       920\n",
      "            weighted avg       0.93      0.93      0.93       920\n",
      "\n"
     ]
    },
    {
     "data": {
      "text/plain": [
       "<AxesSubplot:>"
      ]
     },
     "execution_count": 79,
     "metadata": {},
     "output_type": "execute_result"
    },
    {
     "data": {
      "image/png": "[encoded data removed]",
      "text/plain": [
       "<Figure size 432x288 with 2 Axes>"
      ]
     },
     "metadata": {
      "needs_background": "light"
     },
     "output_type": "display_data"
    }
   ],
   "source": [
    "cm1 = confusion_matrix(y_test, y_pred1)\n",
    "print(classification_report(y_test, y_pred1, target_names=['Non-seizure(eyes_closed)', 'Tumor_Affected_Area']))\n",
    "\n",
    "df_cm1 = pd.DataFrame(cm1, range(2), range(2))\n",
    "sn.heatmap(df_cm1, annot=True,fmt='g',cmap ='Blues')# font size"
   ]
  },
  {
   "cell_type": "code",
   "execution_count": 80,
   "id": "706b452c",
   "metadata": {},
   "outputs": [
    {
     "data": {
      "text/plain": [
       "GradientBoostingClassifier(max_depth=None, n_estimators=50, random_state=0)"
      ]
     },
     "execution_count": 80,
     "metadata": {},
     "output_type": "execute_result"
    }
   ],
   "source": [
    "classifier2 = GradientBoostingClassifier(n_estimators=50, max_depth=None, random_state=0)\n",
    "classifier2.fit(X_train, y_train)"
   ]
  },
  {
   "cell_type": "code",
   "execution_count": 81,
   "id": "7e7926ec",
   "metadata": {},
   "outputs": [],
   "source": [
    "y_pred2 = classifier2.predict(X_test)"
   ]
  },
  {
   "cell_type": "code",
   "execution_count": 82,
   "id": "3dd1c763",
   "metadata": {},
   "outputs": [
    {
     "data": {
      "text/plain": [
       "0.708695652173913"
      ]
     },
     "execution_count": 82,
     "metadata": {},
     "output_type": "execute_result"
    }
   ],
   "source": [
    "accuracies2 = cross_val_score(estimator = classifier2,\n",
    "                             X = X_test,\n",
    "                             y = y_test,\n",
    "                             cv = 10,\n",
    "                             n_jobs = -1)\n",
    "accuracies2.mean()"
   ]
  },
  {
   "cell_type": "code",
   "execution_count": 83,
   "id": "8d005d6f",
   "metadata": {},
   "outputs": [
    {
     "data": {
      "text/plain": [
       "0.030279104950400256"
      ]
     },
     "execution_count": 83,
     "metadata": {},
     "output_type": "execute_result"
    }
   ],
   "source": [
    "accuracies2.std()"
   ]
  },
  {
   "cell_type": "code",
   "execution_count": 84,
   "id": "76bd2f54",
   "metadata": {},
   "outputs": [
    {
     "name": "stdout",
     "output_type": "stream",
     "text": [
      "                          precision    recall  f1-score   support\n",
      "\n",
      "Non-seizure(eyes_closed)       0.72      0.80      0.76       454\n",
      "     Tumor_Affected_Area       0.78      0.71      0.74       466\n",
      "\n",
      "                accuracy                           0.75       920\n",
      "               macro avg       0.75      0.75      0.75       920\n",
      "            weighted avg       0.75      0.75      0.75       920\n",
      "\n"
     ]
    },
    {
     "data": {
      "text/plain": [
       "<AxesSubplot:>"
      ]
     },
     "execution_count": 84,
     "metadata": {},
     "output_type": "execute_result"
    },
    {
     "data": {
      "image/png": "[encoded data removed]",
      "text/plain": [
       "<Figure size 432x288 with 2 Axes>"
      ]
     },
     "metadata": {
      "needs_background": "light"
     },
     "output_type": "display_data"
    }
   ],
   "source": [
    "cm2 = confusion_matrix(y_test, y_pred2)\n",
    "print(classification_report(y_test, y_pred2, target_names=['Non-seizure(eyes_closed)','Tumor_Affected_Area']))\n",
    "\n",
    "df_cm2 = pd.DataFrame(cm2, range(2), range(2))\n",
    "sn.heatmap(df_cm2, annot=True,fmt='g',cmap ='Blues')# font size"
   ]
  },
  {
   "cell_type": "code",
   "execution_count": 85,
   "id": "67f3f18c",
   "metadata": {},
   "outputs": [
    {
     "data": {
      "text/plain": [
       "AdaBoostClassifier(n_estimators=100, random_state=0)"
      ]
     },
     "execution_count": 85,
     "metadata": {},
     "output_type": "execute_result"
    }
   ],
   "source": [
    "classifier3 = AdaBoostClassifier(n_estimators=100, random_state=0)\n",
    "classifier3.fit(X_train, y_train)"
   ]
  },
  {
   "cell_type": "code",
   "execution_count": 86,
   "id": "415052d3",
   "metadata": {},
   "outputs": [],
   "source": [
    "y_pred3 = classifier3.predict(X_test)"
   ]
  },
  {
   "cell_type": "code",
   "execution_count": 87,
   "id": "e794619a",
   "metadata": {},
   "outputs": [
    {
     "data": {
      "text/plain": [
       "0.5978260869565217"
      ]
     },
     "execution_count": 87,
     "metadata": {},
     "output_type": "execute_result"
    }
   ],
   "source": [
    "accuracies3 = cross_val_score(estimator = classifier3,\n",
    "                             X = X_test,\n",
    "                             y = y_test,\n",
    "                             cv = 10,\n",
    "                             n_jobs = -1)\n",
    "accuracies3.mean()"
   ]
  },
  {
   "cell_type": "code",
   "execution_count": 88,
   "id": "160b2fe2",
   "metadata": {},
   "outputs": [
    {
     "data": {
      "text/plain": [
       "0.04455195985199825"
      ]
     },
     "execution_count": 88,
     "metadata": {},
     "output_type": "execute_result"
    }
   ],
   "source": [
    "accuracies3.std()"
   ]
  },
  {
   "cell_type": "code",
   "execution_count": 89,
   "id": "2801b7d3",
   "metadata": {},
   "outputs": [
    {
     "name": "stdout",
     "output_type": "stream",
     "text": [
      "                          precision    recall  f1-score   support\n",
      "\n",
      "Non-seizure(eyes_closed)       0.62      0.69      0.65       454\n",
      "     Tumor_Affected_Area       0.66      0.59      0.62       466\n",
      "\n",
      "                accuracy                           0.64       920\n",
      "               macro avg       0.64      0.64      0.64       920\n",
      "            weighted avg       0.64      0.64      0.64       920\n",
      "\n"
     ]
    },
    {
     "data": {
      "text/plain": [
       "<AxesSubplot:>"
      ]
     },
     "execution_count": 89,
     "metadata": {},
     "output_type": "execute_result"
    },
    {
     "data": {
      "image/png": "[encoded data removed]",
      "text/plain": [
       "<Figure size 432x288 with 2 Axes>"
      ]
     },
     "metadata": {
      "needs_background": "light"
     },
     "output_type": "display_data"
    }
   ],
   "source": [
    "cm3 = confusion_matrix(y_test, y_pred3)\n",
    "print(classification_report(y_test, y_pred3, target_names=['Non-seizure(eyes_closed)', 'Tumor_Affected_Area']))\n",
    "\n",
    "df_cm3 = pd.DataFrame(cm3, range(2), range(2))\n",
    "sn.heatmap(df_cm1, annot=True,fmt='g',cmap ='Blues')# font size"
   ]
  },
  {
   "cell_type": "code",
   "execution_count": 90,
   "id": "8ed0b8d8",
   "metadata": {},
   "outputs": [
    {
     "data": {
      "text/plain": [
       "BaggingClassifier(n_estimators=25, random_state=0)"
      ]
     },
     "execution_count": 90,
     "metadata": {},
     "output_type": "execute_result"
    }
   ],
   "source": [
    "classifier4 = BaggingClassifier(n_estimators=25, random_state=0)\n",
    "classifier4.fit(X_train, y_train)"
   ]
  },
  {
   "cell_type": "code",
   "execution_count": 91,
   "id": "402cf61a",
   "metadata": {},
   "outputs": [],
   "source": [
    "y_pred4 = classifier4.predict(X_test)"
   ]
  },
  {
   "cell_type": "code",
   "execution_count": 92,
   "id": "a14bce4a",
   "metadata": {},
   "outputs": [
    {
     "data": {
      "text/plain": [
       "0.826086956521739"
      ]
     },
     "execution_count": 92,
     "metadata": {},
     "output_type": "execute_result"
    }
   ],
   "source": [
    "accuracies4 = cross_val_score(estimator = classifier4,\n",
    "                             X = X_test,\n",
    "                             y = y_test,\n",
    "                             cv = 10,\n",
    "                             n_jobs = -1)\n",
    "accuracies4.mean()"
   ]
  },
  {
   "cell_type": "code",
   "execution_count": 93,
   "id": "bf1c9819",
   "metadata": {},
   "outputs": [
    {
     "data": {
      "text/plain": [
       "0.037338182689821"
      ]
     },
     "execution_count": 93,
     "metadata": {},
     "output_type": "execute_result"
    }
   ],
   "source": [
    "accuracies4.std()"
   ]
  },
  {
   "cell_type": "code",
   "execution_count": 94,
   "id": "67aee1ee",
   "metadata": {},
   "outputs": [
    {
     "name": "stdout",
     "output_type": "stream",
     "text": [
      "                          precision    recall  f1-score   support\n",
      "\n",
      "Non-seizure(eyes_closed)       0.90      0.93      0.92       454\n",
      "     Tumor_Affected_Area       0.93      0.90      0.92       466\n",
      "\n",
      "                accuracy                           0.92       920\n",
      "               macro avg       0.92      0.92      0.92       920\n",
      "            weighted avg       0.92      0.92      0.92       920\n",
      "\n"
     ]
    },
    {
     "data": {
      "text/plain": [
       "<AxesSubplot:>"
      ]
     },
     "execution_count": 94,
     "metadata": {},
     "output_type": "execute_result"
    },
    {
     "data": {
      "image/png": "[encoded data removed]",
      "text/plain": [
       "<Figure size 432x288 with 2 Axes>"
      ]
     },
     "metadata": {
      "needs_background": "light"
     },
     "output_type": "display_data"
    }
   ],
   "source": [
    "cm4 = confusion_matrix(y_test, y_pred4)\n",
    "print(classification_report(y_test, y_pred4, target_names=['Non-seizure(eyes_closed)', 'Tumor_Affected_Area']))\n",
    "\n",
    "df_cm4 = pd.DataFrame(cm4, range(2), range(2))\n",
    "sn.heatmap(df_cm4, annot=True,fmt='g',cmap ='Blues')# font size"
   ]
  },
  {
   "cell_type": "code",
   "execution_count": 95,
   "id": "6871ab34",
   "metadata": {},
   "outputs": [
    {
     "data": {
      "text/plain": [
       "DecisionTreeClassifier(random_state=0)"
      ]
     },
     "execution_count": 95,
     "metadata": {},
     "output_type": "execute_result"
    }
   ],
   "source": [
    "classifier5 = DecisionTreeClassifier(random_state=0)\n",
    "classifier5.fit(X_train, y_train)"
   ]
  },
  {
   "cell_type": "code",
   "execution_count": 96,
   "id": "16650da7",
   "metadata": {},
   "outputs": [],
   "source": [
    "y_pred5 = classifier5.predict(X_test)"
   ]
  },
  {
   "cell_type": "code",
   "execution_count": 97,
   "id": "4d3d92bd",
   "metadata": {},
   "outputs": [
    {
     "data": {
      "text/plain": [
       "0.7108695652173913"
      ]
     },
     "execution_count": 97,
     "metadata": {},
     "output_type": "execute_result"
    }
   ],
   "source": [
    "accuracies5 = cross_val_score(estimator = classifier5,\n",
    "                             X = X_test,\n",
    "                             y = y_test,\n",
    "                             cv = 10,\n",
    "                             n_jobs = -1)\n",
    "accuracies5.mean()"
   ]
  },
  {
   "cell_type": "code",
   "execution_count": 98,
   "id": "123b3f2b",
   "metadata": {},
   "outputs": [
    {
     "data": {
      "text/plain": [
       "0.025813787145734606"
      ]
     },
     "execution_count": 98,
     "metadata": {},
     "output_type": "execute_result"
    }
   ],
   "source": [
    "accuracies5.std()"
   ]
  },
  {
   "cell_type": "markdown",
   "id": "bbb603be",
   "metadata": {},
   "source": [
    "cm5 = confusion_matrix(y_test, y_pred5)\n",
    "print(classification_report(y_test, y_pred5, target_names=['Non-seizure(eyes_closed)', 'Tumor_Affected_Area']))\n",
    "\n",
    "df_cm5 = pd.DataFrame(cm5, range(2), range(2))\n",
    "sn.heatmap(df_cm4, annot=True,fmt='g',cmap ='Blues')# font size"
   ]
  },
  {
   "cell_type": "markdown",
   "id": "cc6a7ed2",
   "metadata": {},
   "source": [
    "# third classiication\n",
    "\n"
   ]
  },
  {
   "cell_type": "code",
   "execution_count": 99,
   "id": "1faf5810",
   "metadata": {},
   "outputs": [
    {
     "data": {
      "image/png": "[encoded data removed]",
      "text/plain": [
       "<Figure size 432x288 with 1 Axes>"
      ]
     },
     "metadata": {
      "needs_background": "light"
     },
     "output_type": "display_data"
    }
   ],
   "source": [
    "cols = resample_data.columns\n",
    "ax = sn.countplot(x=\"y\", data=resample_data)"
   ]
  },
  {
   "cell_type": "code",
   "execution_count": 101,
   "id": "a31209b0",
   "metadata": {},
   "outputs": [
    {
     "data": {
      "text/plain": [
       "array([4, 4, 2, 4, 4, 2, 2, 4, 2, 2, 2, 2, 2, 4, 4, 2, 4, 2, 4, 2, 4, 4,\n",
       "       2, 4, 4, 4, 4, 4, 4, 4], dtype=int64)"
      ]
     },
     "execution_count": 101,
     "metadata": {},
     "output_type": "execute_result"
    }
   ],
   "source": [
    " y= resample_data['y'].values\n",
    "y[0:30]"
   ]
  },
  {
   "cell_type": "code",
   "execution_count": 102,
   "id": "1013f35a",
   "metadata": {},
   "outputs": [
    {
     "data": {
      "text/plain": [
       "LabelEncoder()"
      ]
     },
     "execution_count": 102,
     "metadata": {},
     "output_type": "execute_result"
    }
   ],
   "source": [
    "le = LabelEncoder()\n",
    "le.fit(y)"
   ]
  },
  {
   "cell_type": "code",
   "execution_count": 103,
   "id": "84fb008f",
   "metadata": {},
   "outputs": [
    {
     "data": {
      "text/plain": [
       "array([2, 4], dtype=int64)"
      ]
     },
     "execution_count": 103,
     "metadata": {},
     "output_type": "execute_result"
    }
   ],
   "source": [
    "le.classes_"
   ]
  },
  {
   "cell_type": "code",
   "execution_count": 104,
   "id": "1fce0b44",
   "metadata": {},
   "outputs": [],
   "source": [
    "y = le.transform(y)"
   ]
  },
  {
   "cell_type": "code",
   "execution_count": 105,
   "id": "ea311665",
   "metadata": {},
   "outputs": [
    {
     "data": {
      "text/plain": [
       "array([1, 1, 0, 1, 1, 0, 0, 1, 0, 0, 0, 0, 0, 1, 1, 0, 1, 0, 1, 0, 1, 1,\n",
       "       0, 1, 1, 1, 1, 1, 1, 1], dtype=int64)"
      ]
     },
     "execution_count": 105,
     "metadata": {},
     "output_type": "execute_result"
    }
   ],
   "source": [
    "y[0:30]"
   ]
  },
  {
   "cell_type": "code",
   "execution_count": 106,
   "id": "145ebd52",
   "metadata": {},
   "outputs": [
    {
     "data": {
      "text/plain": [
       "PCA(n_components=1)"
      ]
     },
     "execution_count": 106,
     "metadata": {},
     "output_type": "execute_result"
    }
   ],
   "source": [
    "from sklearn.decomposition import PCA\n",
    "pca = PCA(n_components=1)\n",
    "pca.fit(X)"
   ]
  },
  {
   "cell_type": "code",
   "execution_count": 107,
   "id": "ef29af85",
   "metadata": {},
   "outputs": [
    {
     "data": {
      "text/plain": [
       "(4600, 177)"
      ]
     },
     "execution_count": 107,
     "metadata": {},
     "output_type": "execute_result"
    }
   ],
   "source": [
    "X.shape"
   ]
  },
  {
   "cell_type": "code",
   "execution_count": 108,
   "id": "e8129859",
   "metadata": {},
   "outputs": [],
   "source": [
    "#split data into testing and training\n",
    "X_train, X_test, y_train, y_test = train_test_split(X, y, test_size = 0.2)"
   ]
  },
  {
   "cell_type": "code",
   "execution_count": 109,
   "id": "f60749aa",
   "metadata": {},
   "outputs": [
    {
     "data": {
      "text/plain": [
       "array([1, 1, 0, 1, 0, 1, 0, 1, 0, 0, 1, 0, 0, 0, 1, 1, 0, 1, 1, 0, 1, 1,\n",
       "       0, 0, 0, 1, 0, 0, 1, 1], dtype=int64)"
      ]
     },
     "execution_count": 109,
     "metadata": {},
     "output_type": "execute_result"
    }
   ],
   "source": [
    "y_train[0:30]"
   ]
  },
  {
   "cell_type": "code",
   "execution_count": 110,
   "id": "f132954d",
   "metadata": {},
   "outputs": [
    {
     "data": {
      "text/plain": [
       "XGBClassifier(base_score=0.5, booster='gbtree', callbacks=None,\n",
       "              colsample_bylevel=1, colsample_bynode=1, colsample_bytree=1,\n",
       "              early_stopping_rounds=None, enable_categorical=False,\n",
       "              eval_metric=None, gamma=0, gpu_id=-1, grow_policy='depthwise',\n",
       "              importance_type=None, interaction_constraints='',\n",
       "              learning_rate=0.3, max_bin=256, max_cat_to_onehot=4,\n",
       "              max_delta_step=0, max_depth=6, max_leaves=0, min_child_weight=1,\n",
       "              missing=nan, monotone_constraints='()', n_estimators=100,\n",
       "              n_jobs=1, num_parallel_tree=1, predictor='auto', random_state=0,\n",
       "              reg_alpha=0, reg_lambda=1, ...)"
      ]
     },
     "execution_count": 110,
     "metadata": {},
     "output_type": "execute_result"
    }
   ],
   "source": [
    "classifier = XGBClassifier(n_estimators=100, n_jobs = 1, learning_rate = 0.3)\n",
    "classifier.fit(X_train, y_train)"
   ]
  },
  {
   "cell_type": "code",
   "execution_count": 111,
   "id": "c6dc18a1",
   "metadata": {},
   "outputs": [],
   "source": [
    "#predict the test samples\n",
    "y_pred = classifier.predict(X_test)"
   ]
  },
  {
   "cell_type": "code",
   "execution_count": 112,
   "id": "ef46d403",
   "metadata": {},
   "outputs": [
    {
     "data": {
      "text/plain": [
       "0.8706521739130435"
      ]
     },
     "execution_count": 112,
     "metadata": {},
     "output_type": "execute_result"
    }
   ],
   "source": [
    "#10 fold cross validation\n",
    "accuracies = cross_val_score(estimator = classifier,\n",
    "                             X = X_test,\n",
    "                             y = y_test,\n",
    "                             cv = 10,\n",
    "                             n_jobs = -1)\n",
    "#mean accuracy\n",
    "accuracies.mean()"
   ]
  },
  {
   "cell_type": "code",
   "execution_count": 113,
   "id": "31f996ba",
   "metadata": {},
   "outputs": [
    {
     "data": {
      "text/plain": [
       "0.033484612610324684"
      ]
     },
     "execution_count": 113,
     "metadata": {},
     "output_type": "execute_result"
    }
   ],
   "source": [
    "#standard deviation accuracy\n",
    "accuracies.std()"
   ]
  },
  {
   "cell_type": "code",
   "execution_count": 114,
   "id": "c96d8efd",
   "metadata": {},
   "outputs": [
    {
     "name": "stdout",
     "output_type": "stream",
     "text": [
      "                    precision    recall  f1-score   support\n",
      "\n",
      "Tumor_healthy_area       0.93      0.95      0.94       442\n",
      "           Seizure       0.96      0.93      0.94       478\n",
      "\n",
      "          accuracy                           0.94       920\n",
      "         macro avg       0.94      0.94      0.94       920\n",
      "      weighted avg       0.94      0.94      0.94       920\n",
      "\n"
     ]
    },
    {
     "data": {
      "text/plain": [
       "<AxesSubplot:>"
      ]
     },
     "execution_count": 114,
     "metadata": {},
     "output_type": "execute_result"
    },
    {
     "data": {
      "image/png": "[encoded data removed]",
      "text/plain": [
       "<Figure size 432x288 with 2 Axes>"
      ]
     },
     "metadata": {
      "needs_background": "light"
     },
     "output_type": "display_data"
    }
   ],
   "source": [
    "cm = confusion_matrix(y_test, y_pred)\n",
    "print(classification_report(y_test, y_pred, target_names=['Tumor_healthy_area', 'Seizure']))\n",
    "df_cm = pd.DataFrame(cm, range(2), range(2))\n",
    "sn.heatmap(df_cm, annot=True,fmt='g',cmap ='Blues')# font size"
   ]
  },
  {
   "cell_type": "code",
   "execution_count": 115,
   "id": "f683669d",
   "metadata": {},
   "outputs": [
    {
     "data": {
      "text/plain": [
       "RandomForestClassifier(random_state=0)"
      ]
     },
     "execution_count": 115,
     "metadata": {},
     "output_type": "execute_result"
    }
   ],
   "source": [
    "classifier1 = RandomForestClassifier(n_estimators=100, max_depth=None, random_state=0)\n",
    "classifier1.fit(X_train, y_train)"
   ]
  },
  {
   "cell_type": "code",
   "execution_count": 116,
   "id": "9ad93209",
   "metadata": {},
   "outputs": [],
   "source": [
    "y_pred1 = classifier1.predict(X_test)"
   ]
  },
  {
   "cell_type": "code",
   "execution_count": 117,
   "id": "de7a825c",
   "metadata": {},
   "outputs": [
    {
     "data": {
      "text/plain": [
       "0.8706521739130434"
      ]
     },
     "execution_count": 117,
     "metadata": {},
     "output_type": "execute_result"
    }
   ],
   "source": [
    "accuracies1 = cross_val_score(estimator = classifier1,\n",
    "                             X = X_test,\n",
    "                             y = y_test,\n",
    "                             cv = 10,\n",
    "                             n_jobs = -1)\n",
    "accuracies1.mean()"
   ]
  },
  {
   "cell_type": "code",
   "execution_count": 118,
   "id": "759f3916",
   "metadata": {},
   "outputs": [
    {
     "data": {
      "text/plain": [
       "0.03748030358601447"
      ]
     },
     "execution_count": 118,
     "metadata": {},
     "output_type": "execute_result"
    }
   ],
   "source": [
    "accuracies1.std()"
   ]
  },
  {
   "cell_type": "code",
   "execution_count": 119,
   "id": "e866cc40",
   "metadata": {},
   "outputs": [
    {
     "name": "stdout",
     "output_type": "stream",
     "text": [
      "                    precision    recall  f1-score   support\n",
      "\n",
      "Tumor_healthy_area       0.92      0.95      0.94       442\n",
      "           Seizure       0.95      0.93      0.94       478\n",
      "\n",
      "          accuracy                           0.94       920\n",
      "         macro avg       0.94      0.94      0.94       920\n",
      "      weighted avg       0.94      0.94      0.94       920\n",
      "\n"
     ]
    },
    {
     "data": {
      "text/plain": [
       "<AxesSubplot:>"
      ]
     },
     "execution_count": 119,
     "metadata": {},
     "output_type": "execute_result"
    },
    {
     "data": {
      "image/png": "[encoded data removed]",
      "text/plain": [
       "<Figure size 432x288 with 2 Axes>"
      ]
     },
     "metadata": {
      "needs_background": "light"
     },
     "output_type": "display_data"
    }
   ],
   "source": [
    "cm1 = confusion_matrix(y_test, y_pred1)\n",
    "print(classification_report(y_test, y_pred1, target_names=['Tumor_healthy_area', 'Seizure']))\n",
    "\n",
    "df_cm1 = pd.DataFrame(cm1, range(2), range(2))\n",
    "sn.heatmap(df_cm1, annot=True,fmt='g',cmap ='Blues')# font size"
   ]
  },
  {
   "cell_type": "code",
   "execution_count": 120,
   "id": "c1f09f87",
   "metadata": {},
   "outputs": [
    {
     "data": {
      "text/plain": [
       "GradientBoostingClassifier(max_depth=None, n_estimators=50, random_state=0)"
      ]
     },
     "execution_count": 120,
     "metadata": {},
     "output_type": "execute_result"
    }
   ],
   "source": [
    "classifier2 = GradientBoostingClassifier(n_estimators=50, max_depth=None, random_state=0)\n",
    "classifier2.fit(X_train, y_train)"
   ]
  },
  {
   "cell_type": "code",
   "execution_count": 121,
   "id": "6a8f463c",
   "metadata": {},
   "outputs": [],
   "source": [
    "y_pred2 = classifier2.predict(X_test)"
   ]
  },
  {
   "cell_type": "code",
   "execution_count": 122,
   "id": "384b663f",
   "metadata": {},
   "outputs": [
    {
     "data": {
      "text/plain": [
       "0.6956521739130435"
      ]
     },
     "execution_count": 122,
     "metadata": {},
     "output_type": "execute_result"
    }
   ],
   "source": [
    "accuracies2 = cross_val_score(estimator = classifier2,\n",
    "                             X = X_test,\n",
    "                             y = y_test,\n",
    "                             cv = 10,\n",
    "                             n_jobs = -1)\n",
    "accuracies2.mean()"
   ]
  },
  {
   "cell_type": "code",
   "execution_count": 123,
   "id": "9e2c4761",
   "metadata": {},
   "outputs": [
    {
     "data": {
      "text/plain": [
       "0.04611565964260091"
      ]
     },
     "execution_count": 123,
     "metadata": {},
     "output_type": "execute_result"
    }
   ],
   "source": [
    "accuracies2.std()"
   ]
  },
  {
   "cell_type": "code",
   "execution_count": 124,
   "id": "629cd589",
   "metadata": {},
   "outputs": [
    {
     "name": "stdout",
     "output_type": "stream",
     "text": [
      "                    precision    recall  f1-score   support\n",
      "\n",
      "Tumor_healthy_area       0.78      0.83      0.80       442\n",
      "           Seizure       0.83      0.79      0.81       478\n",
      "\n",
      "          accuracy                           0.81       920\n",
      "         macro avg       0.81      0.81      0.81       920\n",
      "      weighted avg       0.81      0.81      0.81       920\n",
      "\n"
     ]
    },
    {
     "data": {
      "text/plain": [
       "<AxesSubplot:>"
      ]
     },
     "execution_count": 124,
     "metadata": {},
     "output_type": "execute_result"
    },
    {
     "data": {
      "image/png": "[encoded data removed]",
      "text/plain": [
       "<Figure size 432x288 with 2 Axes>"
      ]
     },
     "metadata": {
      "needs_background": "light"
     },
     "output_type": "display_data"
    }
   ],
   "source": [
    "cm2 = confusion_matrix(y_test, y_pred2)\n",
    "print(classification_report(y_test, y_pred2, target_names=['Tumor_healthy_area', 'Seizure']))\n",
    "\n",
    "df_cm2 = pd.DataFrame(cm2, range(2), range(2))\n",
    "sn.heatmap(df_cm2, annot=True,fmt='g',cmap ='Blues')# font size"
   ]
  },
  {
   "cell_type": "code",
   "execution_count": 125,
   "id": "8e5ae55e",
   "metadata": {},
   "outputs": [
    {
     "data": {
      "text/plain": [
       "AdaBoostClassifier(n_estimators=100, random_state=0)"
      ]
     },
     "execution_count": 125,
     "metadata": {},
     "output_type": "execute_result"
    }
   ],
   "source": [
    "classifier3 = AdaBoostClassifier(n_estimators=100, random_state=0)\n",
    "classifier3.fit(X_train, y_train)"
   ]
  },
  {
   "cell_type": "code",
   "execution_count": 126,
   "id": "29ba4452",
   "metadata": {},
   "outputs": [],
   "source": [
    "y_pred3 = classifier3.predict(X_test)"
   ]
  },
  {
   "cell_type": "code",
   "execution_count": 127,
   "id": "f5a71169",
   "metadata": {},
   "outputs": [
    {
     "data": {
      "text/plain": [
       "0.5608695652173913"
      ]
     },
     "execution_count": 127,
     "metadata": {},
     "output_type": "execute_result"
    }
   ],
   "source": [
    "accuracies3 = cross_val_score(estimator = classifier3,\n",
    "                             X = X_test,\n",
    "                             y = y_test,\n",
    "                             cv = 10,\n",
    "                             n_jobs = -1)\n",
    "accuracies3.mean()"
   ]
  },
  {
   "cell_type": "code",
   "execution_count": 128,
   "id": "b56d7703",
   "metadata": {},
   "outputs": [
    {
     "data": {
      "text/plain": [
       "0.03157791097029119"
      ]
     },
     "execution_count": 128,
     "metadata": {},
     "output_type": "execute_result"
    }
   ],
   "source": [
    "accuracies3.std()"
   ]
  },
  {
   "cell_type": "code",
   "execution_count": 129,
   "id": "16cd5da9",
   "metadata": {},
   "outputs": [
    {
     "name": "stdout",
     "output_type": "stream",
     "text": [
      "                    precision    recall  f1-score   support\n",
      "\n",
      "Tumor_healthy_area       0.59      0.67      0.63       442\n",
      "           Seizure       0.66      0.58      0.61       478\n",
      "\n",
      "          accuracy                           0.62       920\n",
      "         macro avg       0.63      0.62      0.62       920\n",
      "      weighted avg       0.63      0.62      0.62       920\n",
      "\n"
     ]
    },
    {
     "data": {
      "text/plain": [
       "<AxesSubplot:>"
      ]
     },
     "execution_count": 129,
     "metadata": {},
     "output_type": "execute_result"
    },
    {
     "data": {
      "image/png": "[encoded data removed]",
      "text/plain": [
       "<Figure size 432x288 with 2 Axes>"
      ]
     },
     "metadata": {
      "needs_background": "light"
     },
     "output_type": "display_data"
    }
   ],
   "source": [
    "cm3 = confusion_matrix(y_test, y_pred3)\n",
    "print(classification_report(y_test, y_pred3, target_names=['Tumor_healthy_area', 'Seizure']))\n",
    "\n",
    "df_cm3 = pd.DataFrame(cm3, range(2), range(2))\n",
    "sn.heatmap(df_cm1, annot=True,fmt='g',cmap ='Blues')# font size"
   ]
  },
  {
   "cell_type": "code",
   "execution_count": 130,
   "id": "4e7b16ef",
   "metadata": {},
   "outputs": [
    {
     "data": {
      "text/plain": [
       "BaggingClassifier(n_estimators=25, random_state=0)"
      ]
     },
     "execution_count": 130,
     "metadata": {},
     "output_type": "execute_result"
    }
   ],
   "source": [
    "classifier4 = BaggingClassifier(n_estimators=25, random_state=0)\n",
    "classifier4.fit(X_train, y_train)"
   ]
  },
  {
   "cell_type": "code",
   "execution_count": 131,
   "id": "fd5053ad",
   "metadata": {},
   "outputs": [],
   "source": [
    "y_pred4 = classifier4.predict(X_test)"
   ]
  },
  {
   "cell_type": "code",
   "execution_count": 132,
   "id": "7e70fcfb",
   "metadata": {},
   "outputs": [
    {
     "data": {
      "text/plain": [
       "0.8380434782608696"
      ]
     },
     "execution_count": 132,
     "metadata": {},
     "output_type": "execute_result"
    }
   ],
   "source": [
    "accuracies4 = cross_val_score(estimator = classifier4,\n",
    "                             X = X_test,\n",
    "                             y = y_test,\n",
    "                             cv = 10,\n",
    "                             n_jobs = -1)\n",
    "accuracies4.mean()"
   ]
  },
  {
   "cell_type": "code",
   "execution_count": 133,
   "id": "c52bd135",
   "metadata": {},
   "outputs": [
    {
     "data": {
      "text/plain": [
       "0.04413900109618903"
      ]
     },
     "execution_count": 133,
     "metadata": {},
     "output_type": "execute_result"
    }
   ],
   "source": [
    "accuracies4.std()"
   ]
  },
  {
   "cell_type": "code",
   "execution_count": 134,
   "id": "5e525949",
   "metadata": {},
   "outputs": [
    {
     "name": "stdout",
     "output_type": "stream",
     "text": [
      "                    precision    recall  f1-score   support\n",
      "\n",
      "Tumor_healthy_area       0.89      0.90      0.90       442\n",
      "           Seizure       0.91      0.90      0.91       478\n",
      "\n",
      "          accuracy                           0.90       920\n",
      "         macro avg       0.90      0.90      0.90       920\n",
      "      weighted avg       0.90      0.90      0.90       920\n",
      "\n"
     ]
    },
    {
     "data": {
      "text/plain": [
       "<AxesSubplot:>"
      ]
     },
     "execution_count": 134,
     "metadata": {},
     "output_type": "execute_result"
    },
    {
     "data": {
      "image/png": "[encoded data removed]",
      "text/plain": [
       "<Figure size 432x288 with 2 Axes>"
      ]
     },
     "metadata": {
      "needs_background": "light"
     },
     "output_type": "display_data"
    }
   ],
   "source": [
    "cm4 = confusion_matrix(y_test, y_pred4)\n",
    "print(classification_report(y_test, y_pred4, target_names=['Tumor_healthy_area', 'Seizure']))\n",
    "\n",
    "df_cm4 = pd.DataFrame(cm4, range(2), range(2))\n",
    "sn.heatmap(df_cm4, annot=True,fmt='g',cmap ='Blues')# font size"
   ]
  },
  {
   "cell_type": "code",
   "execution_count": 135,
   "id": "4d414dc7",
   "metadata": {},
   "outputs": [
    {
     "data": {
      "text/plain": [
       "DecisionTreeClassifier(random_state=0)"
      ]
     },
     "execution_count": 135,
     "metadata": {},
     "output_type": "execute_result"
    }
   ],
   "source": [
    "classifier5 = DecisionTreeClassifier(random_state=0)\n",
    "classifier5.fit(X_train, y_train)"
   ]
  },
  {
   "cell_type": "code",
   "execution_count": 136,
   "id": "1a8c5ad6",
   "metadata": {},
   "outputs": [],
   "source": [
    "y_pred5 = classifier5.predict(X_test)"
   ]
  },
  {
   "cell_type": "code",
   "execution_count": 137,
   "id": "fe001171",
   "metadata": {},
   "outputs": [
    {
     "data": {
      "text/plain": [
       "0.683695652173913"
      ]
     },
     "execution_count": 137,
     "metadata": {},
     "output_type": "execute_result"
    }
   ],
   "source": [
    "accuracies5 = cross_val_score(estimator = classifier5,\n",
    "                             X = X_test,\n",
    "                             y = y_test,\n",
    "                             cv = 10,\n",
    "                             n_jobs = -1)\n",
    "accuracies5.mean()"
   ]
  },
  {
   "cell_type": "code",
   "execution_count": 138,
   "id": "bc0ca1d0",
   "metadata": {},
   "outputs": [
    {
     "data": {
      "text/plain": [
       "0.04194300300342334"
      ]
     },
     "execution_count": 138,
     "metadata": {},
     "output_type": "execute_result"
    }
   ],
   "source": [
    "accuracies5.std()"
   ]
  },
  {
   "cell_type": "code",
   "execution_count": 139,
   "id": "111914b9",
   "metadata": {},
   "outputs": [
    {
     "name": "stdout",
     "output_type": "stream",
     "text": [
      "                          precision    recall  f1-score   support\n",
      "\n",
      "Non-seizure(eyes_closed)       0.77      0.80      0.79       442\n",
      "     Tumor_Affected_Area       0.81      0.78      0.80       478\n",
      "\n",
      "                accuracy                           0.79       920\n",
      "               macro avg       0.79      0.79      0.79       920\n",
      "            weighted avg       0.79      0.79      0.79       920\n",
      "\n"
     ]
    },
    {
     "data": {
      "text/plain": [
       "<AxesSubplot:>"
      ]
     },
     "execution_count": 139,
     "metadata": {},
     "output_type": "execute_result"
    },
    {
     "data": {
      "image/png": "[encoded data removed]",
      "text/plain": [
       "<Figure size 432x288 with 2 Axes>"
      ]
     },
     "metadata": {
      "needs_background": "light"
     },
     "output_type": "display_data"
    }
   ],
   "source": [
    "cm5 = confusion_matrix(y_test, y_pred5)\n",
    "print(classification_report(y_test, y_pred5, target_names=['Non-seizure(eyes_closed)', 'Tumor_Affected_Area']))\n",
    "\n",
    "df_cm5 = pd.DataFrame(cm5, range(2), range(2))\n",
    "sn.heatmap(df_cm4, annot=True,fmt='g',cmap ='Blues')# font size"
   ]
  },
  {
   "cell_type": "code",
   "execution_count": null,
   "id": "afe136cf",
   "metadata": {},
   "outputs": [],
   "source": []
  }
 ],
 "metadata": {
  "kernelspec": {
   "display_name": "Python 3 (ipykernel)",
   "language": "python",
   "name": "python3"
  },
  "language_info": {
   "codemirror_mode": {
    "name": "ipython",
    "version": 3
   },
   "file_extension": ".py",
   "mimetype": "text/x-python",
   "name": "python",
   "nbconvert_exporter": "python",
   "pygments_lexer": "ipython3",
   "version": "3.9.7"
  }
 },
 "nbformat": 4,
 "nbformat_minor": 5
}
